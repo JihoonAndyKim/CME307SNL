{
 "cells": [
  {
   "cell_type": "markdown",
   "metadata": {},
   "source": [
    "For this section, we will solve the problems from HW1 and HW2 using steepest descent without the use of CVX or MOSEK"
   ]
  },
  {
   "cell_type": "markdown",
   "metadata": {},
   "source": [
    "## Part A: Solving with the initial condition at the origin"
   ]
  },
  {
   "cell_type": "markdown",
   "metadata": {},
   "source": [
    "### One sensor and three anchors\n",
    "All of the following code is identical to the setup for HW1 and HW2"
   ]
  },
  {
   "cell_type": "code",
   "execution_count": 25,
   "metadata": {
    "collapsed": true
   },
   "outputs": [],
   "source": [
    "import cvxpy as cvx\n",
    "import numpy as np"
   ]
  },
  {
   "cell_type": "code",
   "execution_count": 26,
   "metadata": {
    "collapsed": true
   },
   "outputs": [],
   "source": [
    "# Construct the anchor points\n",
    "a1 = np.array([1.0, 0.0])\n",
    "a2 = np.array([-1.0, 0.0])\n",
    "a3 = np.array([0.0, 2.0])\n",
    "\n",
    "\n",
    "# Construct the vectors of our triangle\n",
    "v1 = a1 - a2\n",
    "v2 = a3 - a2"
   ]
  },
  {
   "cell_type": "code",
   "execution_count": 27,
   "metadata": {
    "collapsed": true
   },
   "outputs": [],
   "source": [
    "# Function to generate a random point inside or outside of \n",
    "# our convex hull. \n",
    "def point_generator(outside=False):\n",
    "    # Compute a random point within the quadrilateral\n",
    "    rand_point = a2 + (np.random.random() * v1 + np.random.random() * v2)\n",
    "    \n",
    "    # Compute the barycentric coordinates to determine whether the point is inside\n",
    "    # the triangle, or outside of it\n",
    "    alpha = ((a2[1] - a3[1])*(rand_point[0] - a3[0]) + (a3[0] - a2[0])* \\\n",
    "            (rand_point[1] - a3[1])) / ((a2[1] - a3[1])*(a1[0] - a3[0]) + \\\n",
    "            (a3[0] - a2[0])*(a1[1] - a3[1]))\n",
    "    beta = ((a3[1] - a1[1])*(rand_point[0] - a3[0]) + (a1[0] - a3[0])* \\\n",
    "            (rand_point[1] - a3[1])) / ((a2[1] - a3[1])*(a1[0] - a3[0]) + \\\n",
    "            (a3[0] - a2[0])*(a1[1] - a3[1]))\n",
    "    gamma = 1.0 - alpha - beta\n",
    "\n",
    "    # If each barycentric coordinate is greater than 0, the point is inside\n",
    "    if alpha > 0.0 and beta > 0.0 and gamma > 0.0:\n",
    "        # If we want the point outside\n",
    "        if outside:\n",
    "            # Repeat the procedure\n",
    "            return point_generator(outside)\n",
    "        else:\n",
    "            # Return our random point inside the triangle\n",
    "            return rand_point\n",
    "    else: # The point is outside\n",
    "        if outside:\n",
    "            # Return our random point outside the triangle\n",
    "            return rand_point\n",
    "        else:\n",
    "            # Repeat the procedure\n",
    "            return point_generator()"
   ]
  },
  {
   "cell_type": "code",
   "execution_count": 104,
   "metadata": {
    "collapsed": true
   },
   "outputs": [],
   "source": [
    "# Construct our random point\n",
    "p = point_generator()\n",
    "\n",
    "# Compute the Euclidian distances to the anchor points\n",
    "d1 = np.linalg.norm(p - a1)\n",
    "d2 = np.linalg.norm(p - a2)\n",
    "d3 = np.linalg.norm(p - a3)\n",
    "\n",
    "# Store the anchors, distances and initial starting point at origin\n",
    "a = [a1, a2, a3]\n",
    "d  = [d1, d2, d3]\n",
    "x_0 = np.array([0.,0.])"
   ]
  },
  {
   "cell_type": "code",
   "execution_count": 105,
   "metadata": {
    "collapsed": true
   },
   "outputs": [],
   "source": [
    "#Compute the objective function as enumerated in model (1)\n",
    "def SNL_HW1(a, x, d):\n",
    "    sum_obj = 0\n",
    "    for i in range(3):\n",
    "        sum_obj = sum_obj + ((np.linalg.norm(a[i] - x) ** 2) - d[i] ** 2) ** 2\n",
    "    \n",
    "    return sum_obj\n",
    "\n",
    "#The gradient of the objective function\n",
    "def dSNL_HW1(a, x, d):\n",
    "    sum_x = np.zeros(2)\n",
    "    for i in range(3):\n",
    "        inner = 2 * (np.linalg.norm(a[i] - x) ** 2 - d[i] ** 2)\n",
    "        grad = 2 * (-a[i] + x)\n",
    "        sum_x = sum_x + inner * grad\n",
    "    \n",
    "    return sum_x\n",
    "\n",
    "#Compute the steepest descent method with alpha backtracking\n",
    "def steepest_descent(op, dop, a, xin, d, niter):\n",
    "    x = np.copy(xin)\n",
    "    \n",
    "    for i in range(0, niter):\n",
    "        direction = dop(a, x, d)\n",
    "        alpha = 1.\n",
    "        while(op(a, x  - alpha * direction, d) > op(a, x, d) \\\n",
    "              0.5 * alpha * np.dot(direction, direction)):\n",
    "            alpha *= 0.9\n",
    "        x -= alpha * direction\n",
    "        \n",
    "    return x"
   ]
  },
  {
   "cell_type": "code",
   "execution_count": 122,
   "metadata": {},
   "outputs": [
    {
     "name": "stdout",
     "output_type": "stream",
     "text": [
      "The true point value is [-0.0930494   0.95350691]\n",
      "Solving for the optimal solution, we get:  [-0.09295538  0.95353915]\n"
     ]
    }
   ],
   "source": [
    "soln = steepest_descent(SNL_HW1, dSNL_HW1, a, x_0, d, 5)\n",
    "print \"The true point value is\", p\n",
    "print \"Solving for the optimal solution, we get: \", soln"
   ]
  },
  {
   "cell_type": "markdown",
   "metadata": {},
   "source": [
    "Therefore, we see that solving for the true value with the starting point at the origin yields the correct solution. Now, let's try the same computation for the problem seen in HW2."
   ]
  },
  {
   "cell_type": "markdown",
   "metadata": {},
   "source": [
    "### Two sensors, Three Anchors"
   ]
  },
  {
   "cell_type": "code",
   "execution_count": 126,
   "metadata": {
    "collapsed": true
   },
   "outputs": [],
   "source": [
    "# Note that the summations are unrolled for the ease of coding.\n",
    "# The objective function is for the distances d11, d12, d22, d23, dhat12\n",
    "\n",
    "# We update the objective function seen with two sensors and three anchors\n",
    "def SNL_HW2(a, x, d):\n",
    "    sum_obj = 0\n",
    "    sum_obj = sum_obj + ((np.linalg.norm(a[0] - x[0]) ** 2) - d[0][0] ** 2) ** 2\n",
    "    sum_obj = sum_obj + ((np.linalg.norm(a[1] - x[0]) ** 2) - d[0][1] ** 2) ** 2\n",
    "    sum_obj = sum_obj + ((np.linalg.norm(a[1] - x[1]) ** 2) - d[1][0] ** 2) ** 2\n",
    "    sum_obj = sum_obj + ((np.linalg.norm(a[2] - x[1]) ** 2) - d[1][1] ** 2) ** 2\n",
    "    sum_obj = sum_obj + ((np.linalg.norm(x[0] - x[1]) ** 2) - d[2] ** 2) ** 2\n",
    "    \n",
    "    return sum_obj\n",
    "\n",
    "# Here, we perform the gradient of the objective function\n",
    "# Note that we keep the gradients for the two different\n",
    "# sensors separate and stored in sum_x[0] and sum_x[1]\n",
    "# respectively\n",
    "def dSNL_HW2(a, x, d):\n",
    "    sum_x = np.zeros((2,2))\n",
    "    sum_x[0] = sum_x[0] + 4 * \\\n",
    "                (np.linalg.norm(a[0] - x[0]) ** 2 - d[0][0] ** 2) * (-a[0] + x[0])\n",
    "    sum_x[0] = sum_x[0] + 4 * \\\n",
    "                (np.linalg.norm(a[1] - x[0]) ** 2 - d[0][1] ** 2) * (-a[1] + x[0])\n",
    "    sum_x[0] = sum_x[0] + 4 * \\\n",
    "                (np.linalg.norm(x[0] - x[1]) ** 2 - d[2] ** 2) * (x[0] - x[1])\n",
    "    \n",
    "    sum_x[1] = sum_x[1] + 4 * \\\n",
    "                (np.linalg.norm(a[1] - x[1]) ** 2 - d[1][0] ** 2) * (-a[1] + x[1])\n",
    "    sum_x[1] = sum_x[1] + 4 * \\\n",
    "                (np.linalg.norm(a[2] - x[1]) ** 2 - d[1][1] ** 2) * (-a[2] + x[1])\n",
    "    sum_x[1] = sum_x[1] + 4 * \\\n",
    "                (np.linalg.norm(x[0] - x[1]) ** 2 - d[2] ** 2) * (x[1] - x[0])\n",
    "    \n",
    "    return sum_x\n",
    "\n",
    "# Updated steepest descent where we perform it twice for the two\n",
    "# different sensors\n",
    "def steepest_descent_2(op, dop, a, xin, d, niter):\n",
    "    x = np.copy(xin)\n",
    "    \n",
    "    for i in range(0, niter):\n",
    "            direction = dop(a, x, d)\n",
    "            for j in range(2):\n",
    "                alpha = 1.\n",
    "                while(op(a, x[j]  - alpha * direction[j], d) > op(a, x[j], d) \\\n",
    "                      - 0.5 * alpha * np.dot(direction[j], direction[j])):\n",
    "                    alpha *= 0.9\n",
    "                x[j] -= alpha * direction[j]\n",
    "    \n",
    "    return x"
   ]
  },
  {
   "cell_type": "code",
   "execution_count": 118,
   "metadata": {
    "collapsed": true
   },
   "outputs": [],
   "source": [
    "p1 = np.array([-0.4, 0.2])\n",
    "p2 = np.array([-0.1, 1.7])\n",
    "x2 = [np.array([0.,0.]), np.array([0.,0.])]\n",
    "\n",
    "d2 = [[np.linalg.norm(p1 - a1), np.linalg.norm(p1 - a2)], \\\n",
    "      [np.linalg.norm(p2 - a2), np.linalg.norm(p2 - a3)], \\\n",
    "       np.linalg.norm(p1 - p2)]\n"
   ]
  },
  {
   "cell_type": "code",
   "execution_count": 127,
   "metadata": {},
   "outputs": [
    {
     "name": "stdout",
     "output_type": "stream",
     "text": [
      "The true location of the sensors are:  [-0.4  0.2] [-0.1  1.7]\n",
      "The solution recovered for the two sensors is: \n",
      "[ -5.67228040e-01  -1.66533454e-16]\n",
      "[ 0.30037866  0.86776058]\n"
     ]
    }
   ],
   "source": [
    "soln = steepest_descent_2(SNL_HW2, dSNL_HW2, a, x2, d2, 20)\n",
    "print \"The true location of the sensors are: \", p1, p2\n",
    "print \"The solution recovered for the two sensors is: \"\n",
    "print soln[0]\n",
    "print soln[1]"
   ]
  },
  {
   "cell_type": "markdown",
   "metadata": {},
   "source": [
    "In contrast to the solution seen with one sensor and three anchors, we do not recover the correct solution. This is because our initial conditions do not allow for convergence to the correct value (unstable equilibrium), we will see this corrected in the next section."
   ]
  },
  {
   "cell_type": "markdown",
   "metadata": {},
   "source": [
    "## Part B: Initial condition is at the SOCP/SDP solution\n",
    "\n",
    "Now, we try to solve the same optimization problems with the initial condition at the SOCP solutions. Note that in HW1 and HW2, we saw that the SOCP/SDP solution were at exact true points with no error, so we replace the initial starting condition at the true points and see if they remain at a fixed point."
   ]
  },
  {
   "cell_type": "markdown",
   "metadata": {},
   "source": [
    "### One sensor, three anchors"
   ]
  },
  {
   "cell_type": "code",
   "execution_count": 123,
   "metadata": {},
   "outputs": [
    {
     "name": "stdout",
     "output_type": "stream",
     "text": [
      "The true point value is [-0.0930494   0.95350691]\n",
      "Solving for the optimal solution, we get:  [-0.0930494   0.95350691]\n"
     ]
    }
   ],
   "source": [
    "soln = steepest_descent(SNL_HW1, dSNL_HW1, a, p, d, 5)\n",
    "print \"The true point value is\", p\n",
    "print \"Solving for the optimal solution, we get: \", soln"
   ]
  },
  {
   "cell_type": "markdown",
   "metadata": {},
   "source": [
    "It is expected that the one sensor and three anchor problem solution can be optimized to the exact true location since we were able to recover the correct solution starting at the origin."
   ]
  },
  {
   "cell_type": "markdown",
   "metadata": {},
   "source": [
    "## Two sensors, three anchors"
   ]
  },
  {
   "cell_type": "code",
   "execution_count": 125,
   "metadata": {},
   "outputs": [
    {
     "name": "stdout",
     "output_type": "stream",
     "text": [
      "The true location of the sensors are:  [-0.4  0.2] [-0.1  1.7]\n",
      "The solution recovered for the two sensors is:  [-0.4  0.2] [-0.1  1.7]\n"
     ]
    }
   ],
   "source": [
    "soln = steepest_descent_2(SNL_HW2, dSNL_HW2, a, [p1, p2], d2, 20)\n",
    "print \"The true location of the sensors are: \", p1, p2\n",
    "print \"The solution recovered for the two sensors is: \", soln[0], soln[1]"
   ]
  },
  {
   "cell_type": "markdown",
   "metadata": {},
   "source": [
    "Interestingly, we see that we indeed recover the correct solution demonstrating that the gradient descent is optimizing the correct objective function. So we see that the solution is extremely sensitive to the initial conditions."
   ]
  }
 ],
 "metadata": {
  "kernelspec": {
   "display_name": "Python 2",
   "language": "python",
   "name": "python2"
  },
  "language_info": {
   "codemirror_mode": {
    "name": "ipython",
    "version": 2
   },
   "file_extension": ".py",
   "mimetype": "text/x-python",
   "name": "python",
   "nbconvert_exporter": "python",
   "pygments_lexer": "ipython2",
   "version": "2.7.14"
  }
 },
 "nbformat": 4,
 "nbformat_minor": 2
}
