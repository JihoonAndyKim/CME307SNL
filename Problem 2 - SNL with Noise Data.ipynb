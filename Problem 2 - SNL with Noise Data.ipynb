{
 "cells": [
  {
   "cell_type": "code",
   "execution_count": 149,
   "metadata": {
    "collapsed": true
   },
   "outputs": [],
   "source": [
    "# Import CVX and numpy libraries\n",
    "import cvxpy as cvx\n",
    "import numpy as np\n",
    "import random\n",
    "import copy\n",
    "import math\n",
    "import time\n",
    "import networkx as nx\n",
    "import matplotlib.pyplot as plt"
   ]
  },
  {
   "cell_type": "markdown",
   "metadata": {},
   "source": [
    "We use the same code as we did in Question 1 to generate the SNL problems. Place the generation"
   ]
  },
  {
   "cell_type": "code",
   "execution_count": 152,
   "metadata": {
    "collapsed": true
   },
   "outputs": [],
   "source": [
    "#The objective function for steepest descent\n",
    "def SNL(a, x, d):\n",
    "    sum_obj = 0\n",
    "    \n",
    "    for (distance, i, j, truth) in d:\n",
    "        if truth:\n",
    "            sum_obj += ((np.linalg.norm(a[j] - x[i]) ** 2) - \\\n",
    "                        distance ** 2) ** 2\n",
    "        else:\n",
    "            sum_obj += (((np.linalg.norm(x[i] - x[j]) ** 2) - \\\n",
    "                         distance ** 2) ** 2)/2\n",
    "    \n",
    "    return sum_obj\n",
    "\n",
    "# Here, we perform the gradient of the objective function\n",
    "def dSNL(a, x, d, npoints, n):\n",
    "    sum_x = np.zeros((npoints, n))\n",
    "    \n",
    "    for (distance, i, j, truth) in d:\n",
    "        if truth:\n",
    "            sum_x[i] += 4 * (np.linalg.norm(a[j] - x[i]) ** 2 - \\\n",
    "                             distance ** 2) * (-a[j] + x[i])\n",
    "        else:\n",
    "            sum_x[i] += 4 * (np.linalg.norm(x[i] - x[j]) ** 2 - \\\n",
    "                             distance ** 2) * (x[i] - x[j])\n",
    "\n",
    "    return sum_x\n",
    "\n",
    "# Updated steepest descent where we perform it twice for the two\n",
    "# different sensors\n",
    "def steepest_descent_2(op, dop, a, xin, d, niter, npoints, n):\n",
    "    x = np.copy(xin)\n",
    "    \n",
    "    for i in range(0, niter):\n",
    "            direction = dop(a, x, d, npoints, n)\n",
    "            \n",
    "            alpha = 1.\n",
    "            \n",
    "            for j in range(npoints):\n",
    "                while(op(a, x  - alpha * direction, d) > op(a, x, d) \\\n",
    "                      - 0.5 * alpha * np.dot(direction[j], direction[j])):\n",
    "                        if alpha < 1e-9:\n",
    "                            break\n",
    "                        alpha *= 0.9\n",
    "\n",
    "            x -= alpha * direction\n",
    "    \n",
    "    return x"
   ]
  },
  {
   "cell_type": "markdown",
   "metadata": {},
   "source": [
    "## SNL with noise\n",
    "The following function performs the SNL problem with noise terms added to the SDP problem. We solve the problem  with CVXPY and then, with the resulting solution as the starting condition, run Steepest Descent. "
   ]
  },
  {
   "cell_type": "code",
   "execution_count": 167,
   "metadata": {
    "collapsed": true
   },
   "outputs": [],
   "source": [
    "def SNL_noise(n, npoints, convex, niter, printOut = False, graph = False):\n",
    "    #Add timing and running totals\n",
    "    start = time.time()\n",
    "    totalRMSE = 0\n",
    "    \n",
    "    for iteration in range(niter):\n",
    "        #Generate different types of problems\n",
    "        if convex:\n",
    "            (a, p, adjacency) = generate(n, npoints)\n",
    "        else:\n",
    "            (a, p, adjacency) = generate_inside_hull(n, npoints)\n",
    "        # Compute the Euclidian distances to the anchor points\n",
    "        adjSize = len(p) + len(a)\n",
    "        asize = len(a)\n",
    "        d = []\n",
    "        #Generate the d variable for storing edges and \n",
    "        #information from the adjacency matrix\n",
    "        for i in range(adjSize):\n",
    "            for j in range(adjSize):\n",
    "                if(j > i and adjacency[i][j] > 0 and i < asize):\n",
    "                    d.append((adjacency[i][j], j - asize, i, True))\n",
    "                elif(j > i and adjacency[i][j] > 0):\n",
    "                    d.append((adjacency[i][j], i - asize, j - asize, False))\n",
    "\n",
    "        # Construct the CVX variables to minimize\n",
    "        x = [cvx.Variable(1) for i in range(len(d) * 2)]\n",
    "    \n",
    "        #The size of the our adjacency matrix\n",
    "        T = n + npoints\n",
    "\n",
    "        z = cvx.Semidef(T)\n",
    "        \n",
    "        #The following constructs the SNL problem with noise\n",
    "        #constraints\n",
    "        eyeConstraint = []\n",
    "        anchorConstraints = []\n",
    "        pointConstraints = []\n",
    "\n",
    "        for i in range(n):\n",
    "            temp = np.zeros((T,T))\n",
    "            temp[i][i] = 1\n",
    "            eyeConstraint.append(temp)\n",
    "\n",
    "        temp = np.zeros((T,T))\n",
    "        for i in range(n):\n",
    "            for j in range(n):\n",
    "                temp[i][j] = 1\n",
    "        eyeConstraint.append(temp)\n",
    "\n",
    "        for (distance, i, j, truth) in d:\n",
    "            if truth:\n",
    "                temp = np.zeros(npoints)\n",
    "                temp[i] = -1.\n",
    "                anchorConstraints.append((np.outer(np.append(a[j], temp), \\\n",
    "                                         np.append(a[j], temp)), distance))\n",
    "            else:\n",
    "                tempi = np.zeros(npoints)\n",
    "                tempj = np.zeros(npoints)\n",
    "                tempi[i] = 1.\n",
    "                tempj[j] = 1.\n",
    "                temp = tempi - tempj\n",
    "                corner = np.zeros(n)\n",
    "                temp = np.append(corner, temp)\n",
    "                pointConstraints.append((np.outer(temp,temp), distance))\n",
    "\n",
    "        matConstraints = anchorConstraints + pointConstraints\n",
    "\n",
    "        #Another empty states list\n",
    "        states = []\n",
    "        \n",
    "        #The following is the new objective function\n",
    "        #and the constraints for our SNL with noise problem\n",
    "        cost = cvx.norm(sum(x))\n",
    "        \n",
    "        constr = []\n",
    "        \n",
    "        #Force the constraints as enumerated in the handout\n",
    "        for i, mat in enumerate(eyeConstraint):\n",
    "            if i < len(eyeConstraint) - 1:\n",
    "                constr.append(cvx.sum_entries(cvx.mul_elemwise(mat, z)) == 1)\n",
    "            else:\n",
    "                constr.append(cvx.sum_entries(cvx.mul_elemwise(mat, z)) == n)\n",
    "\n",
    "        for i, mat in enumerate(matConstraints):\n",
    "            constr.append(cvx.sum_entries(cvx.mul_elemwise(mat[0], z)) + \\\n",
    "                          x[2*i] - x[2*i + 1] ==  mat[1] ** 2)\n",
    "            constr.append(x[2*i] >> 0)\n",
    "            constr.append(x[2*i + 1] >> 0)\n",
    "\n",
    "        constr.append(z >> 0)\n",
    "\n",
    "        #Add the constraints and cost function\n",
    "        states.append(cvx.Problem(cvx.Minimize(cost), constr))\n",
    "\n",
    "        #Solve the SDP relaxation problem\n",
    "        prob = sum(states)\n",
    "        prob.solve();    \n",
    "        \n",
    "        #This is our solution to the problem which we will\n",
    "        #use as the initial condition for our steepest\n",
    "        #descent method\n",
    "        SDPSolution = z.value.A[0:n, n:n + npoints].transpose()\n",
    "        \n",
    "        d2 = copy.copy(d)\n",
    "\n",
    "        for k in range(len(d)):\n",
    "            (distance, i, j, truth) = d[k]\n",
    "\n",
    "            if not truth:\n",
    "                d2.append((distance, j, i, truth))\n",
    "        \n",
    "        #Plot the convergence of the steepest descent method\n",
    "        graphMSE = []\n",
    "        iterList = [i for i in range(0, 200, 5)]\n",
    "        if graph:\n",
    "            for it in iterList:\n",
    "                soln = steepest_descent_2(SNL, dSNL, a, SDPSolution, \\\n",
    "                                          d2, it, npoints, n)\n",
    "                MSE = 0\n",
    "                for i in range(npoints):\n",
    "                    if printOut:\n",
    "                        print(\"Sensor \" + str(i) + \" is located at \" + \\\n",
    "                              str(soln[i]) + \" and the actual value is \" + str(p[i]))\n",
    "                    MSE += np.linalg.norm(np.asarray(soln[i]) - np.asarray(p[i]))\n",
    "                graphMSE.append(MSE)\n",
    "            plt.plot(iterList, graphMSE)\n",
    "            plt.xlabel(\"Number of Iterations\")\n",
    "            plt.ylabel(\"RMSE\")\n",
    "            plt.show()\n",
    "        \n",
    "        #Solve with steepest descent\n",
    "        soln = steepest_descent_2(SNL, dSNL, a, SDPSolution, d2, 200, npoints, n)\n",
    "        RMSE = 0\n",
    "        for i in range(npoints):\n",
    "            if printOut:\n",
    "                print(\"Sensor \" + str(i) + \" is located at \" + str(soln[i]) + \\\n",
    "                      \" and the actual value is \" + str(p[i]))\n",
    "            RMSE += np.linalg.norm(np.asarray(soln[i]) - np.asarray(p[i])) ** 2\n",
    "        totalRMSE += RMSE\n",
    "    \n",
    "    #Compute the total time and RMSE\n",
    "    end = time.time()\n",
    "    print \"Total Time Elapsed (sec): \", end - start\n",
    "    print \"Average RMSE: \", math.sqrt(totalRMSE / niter)"
   ]
  },
  {
   "cell_type": "code",
   "execution_count": 168,
   "metadata": {},
   "outputs": [
    {
     "name": "stdout",
     "output_type": "stream",
     "text": [
      "Sensor 0 is located at [-0.23487709 -1.96948239] and the actual value is [-0.23485862 -1.96969682]\n",
      "Sensor 1 is located at [-0.29091833 -4.02556439] and the actual value is [-0.29077423 -4.02571732]\n",
      "Sensor 2 is located at [-4.34796999 -4.19108114] and the actual value is [-4.34751889 -4.19245741]\n",
      "Sensor 3 is located at [ 0.1853052  -2.73678823] and the actual value is [ 0.18531495 -2.73681766]\n",
      "Sensor 4 is located at [ 4.45951064  1.16398622] and the actual value is [ 4.45978122  1.16366252]\n",
      "Sensor 5 is located at [ 4.44934328 -2.78912066] and the actual value is [ 4.44952238 -2.78923185]\n",
      "Sensor 6 is located at [ 3.53708277 -1.40597098] and the actual value is [ 3.53708653 -1.4060045 ]\n",
      "Sensor 7 is located at [-2.09162045 -0.50773628] and the actual value is [-2.09157847 -0.50814254]\n",
      "Sensor 8 is located at [ 0.86637341 -3.66809282] and the actual value is [ 0.86657483 -3.66828678]\n",
      "Sensor 9 is located at [-0.04111017  1.08803216] and the actual value is [-0.04114275  1.08800216]\n",
      "Total Time Elapsed (sec):  7.64478397369\n",
      "Average RMSE:  0.00163083144811\n"
     ]
    }
   ],
   "source": [
    "#Output the points, do not plot, and solve a \n",
    "#2D problem with outside the cnovex hull\n",
    "SNL_noise(2, 10, True, 1, True, False)"
   ]
  },
  {
   "cell_type": "code",
   "execution_count": 170,
   "metadata": {},
   "outputs": [
    {
     "data": {
      "image/png": "[encoded data removed]",
      "text/plain": [
       "<matplotlib.figure.Figure at 0x7f8ac36318d0>"
      ]
     },
     "metadata": {},
     "output_type": "display_data"
    },
    {
     "name": "stdout",
     "output_type": "stream",
     "text": [
      "Total Time Elapsed (sec):  149.100409031\n",
      "Average RMSE:  0.00460972348857\n"
     ]
    }
   ],
   "source": [
    "#OPlot and solve a 2D problem with outside the cnovex hull\n",
    "SNL_noise(2, 10, True, 1, False, True)"
   ]
  },
  {
   "cell_type": "code",
   "execution_count": 166,
   "metadata": {},
   "outputs": [
    {
     "name": "stdout",
     "output_type": "stream",
     "text": [
      "Total Time Elapsed (sec):  85.5388059616\n",
      "Average RMSE:  0.00363678032118\n"
     ]
    }
   ],
   "source": [
    "#Performing 2-D SNL with SDP and steepest descent outside the convex hull\n",
    "SNL_noise(2, 10, True, 10)"
   ]
  },
  {
   "cell_type": "code",
   "execution_count": null,
   "metadata": {
    "collapsed": true
   },
   "outputs": [],
   "source": []
  }
 ],
 "metadata": {
  "kernelspec": {
   "display_name": "Python 2",
   "language": "python",
   "name": "python2"
  },
  "language_info": {
   "codemirror_mode": {
    "name": "ipython",
    "version": 2
   },
   "file_extension": ".py",
   "mimetype": "text/x-python",
   "name": "python",
   "nbconvert_exporter": "python",
   "pygments_lexer": "ipython2",
   "version": "2.7.14"
  }
 },
 "nbformat": 4,
 "nbformat_minor": 2
}
