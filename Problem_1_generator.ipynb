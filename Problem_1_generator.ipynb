{
 "cells": [
  {
   "cell_type": "markdown",
   "metadata": {},
   "source": [
    "# Problem 9"
   ]
  },
  {
   "cell_type": "markdown",
   "metadata": {},
   "source": [
    "### Authors: Miguel Ferrer and Andy Kim\n",
    "### SUNet ID: mferrera, jkim4223"
   ]
  },
  {
   "cell_type": "code",
   "execution_count": 1,
   "metadata": {
    "collapsed": true
   },
   "outputs": [],
   "source": [
    "# Import CVX and numpy libraries\n",
    "import cvxpy as cvx\n",
    "import numpy as np\n",
    "import random"
   ]
  },
  {
   "cell_type": "markdown",
   "metadata": {},
   "source": [
    "# SOCP."
   ]
  },
  {
   "cell_type": "markdown",
   "metadata": {},
   "source": [
    "First, we set up our problem. Points $a_i$ with $1 \\leq i \\leq 3$ represent the anchor points. We need to generate points located inside the convex hull defined by these anchor points. We construct a method to solve the SOCP problem for any given two points, with the anchors set according to the problem statement."
   ]
  },
  {
   "cell_type": "code",
   "execution_count": 34,
   "metadata": {
    "collapsed": true
   },
   "outputs": [],
   "source": [
    "def generate(n,npoints):\n",
    "    # Set the limits\n",
    "    origA = np.full((n+1,n),-5.)\n",
    "    rangA = np.full((n+1,n), 10.)\n",
    "    origP = np.full((npoints,n),-5.)\n",
    "    rangP = np.full((npoints,n), 10.)\n",
    "\n",
    "    # Construct the anchor points\n",
    "    a = np.random.rand(n+1,n)\n",
    "    a = origA + np.multiply(a,rangA)\n",
    "\n",
    "    # Construct the sensor points\n",
    "    p = np.random.rand(npoints,n)\n",
    "    p = origP + np.multiply(p,rangP)\n",
    "\n",
    "    adjacency = np.full((npoints+n+1,npoints+n+1),-1.)\n",
    "\n",
    "    if(n > 1):\n",
    "        minConstr = 3\n",
    "        maxConstr = 4\n",
    "        minPointConstr = 2\n",
    "        minAnchConstr = 1\n",
    "    else:\n",
    "        minConstr = 2\n",
    "        maxConstr = 3\n",
    "        minPointConstr = 1\n",
    "        minAnchConstr = 1\n",
    "\n",
    "    anchList = [i for i in range(n+1)]\n",
    "    pointList = [i for i in range(npoints)]\n",
    "    off = n + 1\n",
    "\n",
    "    for i in range(npoints):\n",
    "        random.shuffle(anchList)\n",
    "        random.shuffle(pointList)\n",
    "        # Set anchor constraints, between 1 and 3\n",
    "        numAnch = random.randint(minAnchConstr,minConstr)\n",
    "        for l in range(numAnch):\n",
    "            adjacency[anchList[l],i+off] = np.linalg.norm(a[anchList[l]] - p[i])\n",
    "            adjacency[i+off,anchList[l]] = adjacency[anchList[l],i+off]\n",
    "        print(numAnch)\n",
    "        # Count number of constraints already set for this point\n",
    "        countConstr = 0\n",
    "        for l in range(npoints+off):\n",
    "            if(adjacency[l,i+off] > 0):\n",
    "                countConstr = countConstr + 1\n",
    "        # Set point constraints, between 0 and 3\n",
    "        if(minConstr - countConstr >= 0):\n",
    "            numPoint = random.randint(minConstr-countConstr,3)\n",
    "            count = numPoint\n",
    "            l = 0\n",
    "            while(count > 0 and l < len(pointList)):\n",
    "                if(pointList[l] != i):\n",
    "                        countConstr = 0\n",
    "                        for k in range(npoints+off):\n",
    "                            if(adjacency[k,pointList[l]+off] > 0):\n",
    "                                countConstr = countConstr + 1\n",
    "                        if(countConstr < maxConstr):\n",
    "                            adjacency[pointList[l]+off,i+off] = np.linalg.norm(p[pointList[l]] - p[i])\n",
    "                            adjacency[i+off,pointList[l]+off] = adjacency[pointList[l]+off,i+off]\n",
    "                            count = count - 1\n",
    "                l = l + 1\n",
    "    return [a, p, adjacency]"
   ]
  },
  {
   "cell_type": "code",
   "execution_count": 35,
   "metadata": {},
   "outputs": [
    {
     "name": "stdout",
     "output_type": "stream",
     "text": [
      "2\n",
      "3\n"
     ]
    }
   ],
   "source": [
    "n = 2\n",
    "npoints = 2\n",
    "[a,p,adjacency]=generate(n,npoints)"
   ]
  },
  {
   "cell_type": "code",
   "execution_count": 36,
   "metadata": {},
   "outputs": [
    {
     "name": "stdout",
     "output_type": "stream",
     "text": [
      "Populating the interactive namespace from numpy and matplotlib\n"
     ]
    },
    {
     "data": {
      "image/png": "[encoded data removed]",
      "text/plain": [
       "<matplotlib.figure.Figure at 0x110d3fb00>"
      ]
     },
     "metadata": {},
     "output_type": "display_data"
    }
   ],
   "source": [
    "import matplotlib.pyplot as plt\n",
    "import networkx as nx\n",
    "%pylab inline --no-import-all\n",
    "if(n == 2):\n",
    "    G=nx.Graph()\n",
    "\n",
    "    for i in range(n+1):\n",
    "        G.add_node(i,pos=a[i])\n",
    "\n",
    "    for i in range(npoints):\n",
    "        G.add_node(n+1+i,pos=p[i])\n",
    "\n",
    "    pos=nx.get_node_attributes(G,'pos')\n",
    "\n",
    "    nx.draw_networkx_nodes(G,pos,\n",
    "                           nodelist=[i for i in range(n+1)],\n",
    "                           node_color='r',\n",
    "                           node_size=100,\n",
    "                           alpha=0.8,\n",
    "                           with_labels=True)\n",
    "    nx.draw_networkx_nodes(G,pos,\n",
    "                           nodelist=[i for i in range(n+1,npoints+n+1)],\n",
    "                           node_color='b',\n",
    "                           node_size=100,\n",
    "                           alpha=0.8,\n",
    "                           with_labels=True)\n",
    "    for i in range(npoints+n+1):\n",
    "        for j in range(n+1,npoints+n+1):\n",
    "            if(adjacency[j,i] > 0.):\n",
    "                G.add_edge(i,j)\n",
    "\n",
    "    nx.draw_networkx_edges(G, pos)\n",
    "    nx.draw_networkx_labels(G, pos,font_color='w',font_size=8,font_weight='bold')\n",
    "    plt.draw()  # pyplot draw()"
   ]
  },
  {
   "cell_type": "markdown",
   "metadata": {},
   "source": [
    "Now we can construct the different points $p_1$ and $p_2$. By solving the optimization problem, we want to find a good approximation of $p_1$, $p_2$."
   ]
  },
  {
   "cell_type": "markdown",
   "metadata": {},
   "source": [
    "### Both points inside the convex hull: strongly localizable"
   ]
  },
  {
   "cell_type": "code",
   "execution_count": null,
   "metadata": {
    "collapsed": true
   },
   "outputs": [],
   "source": [
    "# Construct our points\n",
    "p1 = np.array([-0.4, 0.2])\n",
    "p2 = np.array([0.0, 1.7])\n",
    "solveForTwoPoints(p1,p2)"
   ]
  },
  {
   "cell_type": "markdown",
   "metadata": {},
   "source": [
    "Reason: the set of $a_1$, $a_2$ and $x_2$ form a convex hull for which we know the distances to $x_1$, so we can solve to find $x_1$ as we did in problem 9 for Homework 1. Similarly, the set of $a_2$, $a_3$ and $x_1$ form a convex hull for which we know the distances to $x_2$, so we can find it in a similar fashion."
   ]
  },
  {
   "cell_type": "markdown",
   "metadata": {},
   "source": [
    "### Both points inside the convex hull: weakly localizable"
   ]
  },
  {
   "cell_type": "code",
   "execution_count": null,
   "metadata": {
    "collapsed": true
   },
   "outputs": [],
   "source": [
    "# Construct our points\n",
    "p1 = np.array([0.0, 1.3])\n",
    "p2 = np.array([0.6, 0.2])\n",
    "solveForTwoPoints(p1,p2)"
   ]
  },
  {
   "cell_type": "markdown",
   "metadata": {},
   "source": [
    "Reason:"
   ]
  },
  {
   "cell_type": "markdown",
   "metadata": {},
   "source": [
    "### One point inside the convex hull"
   ]
  },
  {
   "cell_type": "code",
   "execution_count": null,
   "metadata": {
    "collapsed": true
   },
   "outputs": [],
   "source": [
    "# Construct our points\n",
    "p1 = np.array([0.0, 0.8])\n",
    "p2 = np.array([3.0, 5.0])\n",
    "solveForTwoPoints(p1,p2)"
   ]
  },
  {
   "cell_type": "markdown",
   "metadata": {},
   "source": [
    "Reason:"
   ]
  },
  {
   "cell_type": "markdown",
   "metadata": {},
   "source": [
    "### Both points outside the convex hull"
   ]
  },
  {
   "cell_type": "code",
   "execution_count": null,
   "metadata": {
    "collapsed": true
   },
   "outputs": [],
   "source": [
    "# Construct our points\n",
    "p1 = np.array([-0.5, -.8])\n",
    "p2 = np.array([3.0, 5.0])\n",
    "solveForTwoPoints(p1,p2)"
   ]
  },
  {
   "cell_type": "markdown",
   "metadata": {},
   "source": [
    "Reason:"
   ]
  },
  {
   "cell_type": "markdown",
   "metadata": {},
   "source": [
    "# SDP."
   ]
  },
  {
   "cell_type": "code",
   "execution_count": null,
   "metadata": {
    "collapsed": true
   },
   "outputs": [],
   "source": [
    "def solveForTwoPointsSPD(p1, p2):\n",
    "    # We are working in R^2\n",
    "    n = 2\n",
    "    \n",
    "    # Construct the anchor points\n",
    "    a1 = np.array([1.0, 0.0])\n",
    "    a2 = np.array([-1.0, 0.0])\n",
    "    a3 = np.array([0.0, 2.0])\n",
    "    \n",
    "    # Compute the Euclidian distances to the anchor points\n",
    "    d11 = np.linalg.norm(p1 - a1)\n",
    "    d12 = np.linalg.norm(p1 - a2)\n",
    "    d22 = np.linalg.norm(p2 - a2)\n",
    "    d23 = np.linalg.norm(p2 - a3)\n",
    "    dbar12 = np.linalg.norm(p1 - p2)\n",
    "\n",
    "    #This creates a 3x3 semipositive definite matrix which we will \n",
    "    #use as part of our constraints\n",
    "    z = cvx.Semidef(T)\n",
    "\n",
    "    #These outer products represent the four fixed matrices in the constraints\n",
    "    constraint1 = np.outer(np.array([1., 0., 0., 0.]), np.array([1., 0., 0., 0.]))\n",
    "    constraint2 = np.outer(np.array([0., 1., 0., 0.]), np.array([0., 1., 0., 0.]))\n",
    "    constraint3 = np.outer(np.array([1., 1., 0., 0.]), np.array([1., 1., 0., 0.]))\n",
    "    constraint4 = [np.outer(np.append(a1, [-1., 0.]), np.append(a1, [-1., 0.])), \\\n",
    "                   np.outer(np.append(a2, [-1., 0.]), np.append(a2, [-1., 0.])), \\\n",
    "                   np.outer(np.append(a2, [0., -1.]), np.append(a2, [0., -1.])), \\\n",
    "                   np.outer(np.append(a3, [0., -1.]), np.append(a3, [0., -1.]))]\n",
    "    constraint5 = np.outer(np.array([0., 0., 1., -1.]),np.array([0., 0., 1., -1.]))\n",
    "\n",
    "    #Another empty states list\n",
    "    states = []\n",
    "\n",
    "    cost = cvx.norm(0)\n",
    "    \n",
    "    #The four constraints in the SDP relaxation problem\n",
    "    #Note that the last constraint forces z to be SPD\n",
    "    constr = [cvx.sum_entries(cvx.mul_elemwise(constraint1, z)) == 1, \\\n",
    "              cvx.sum_entries(cvx.mul_elemwise(constraint2, z)) == 1, \\\n",
    "              cvx.sum_entries(cvx.mul_elemwise(constraint3, z)) == 2, \\\n",
    "              cvx.sum_entries(cvx.mul_elemwise(constraint4[0], z)) == d11 ** 2, \\\n",
    "              cvx.sum_entries(cvx.mul_elemwise(constraint4[1], z)) == d12 ** 2, \\\n",
    "              cvx.sum_entries(cvx.mul_elemwise(constraint4[2], z)) == d22 ** 2, \\\n",
    "              cvx.sum_entries(cvx.mul_elemwise(constraint4[3], z)) == d23 ** 2, \\\n",
    "              cvx.sum_entries(cvx.mul_elemwise(constraint5, z)) == dbar12 ** 2, \\\n",
    "              (z >> 0)]\n",
    "    \n",
    "    #Add the constraints and cost function\n",
    "    states.append(cvx.Problem(cvx.Minimize(cost), constr))\n",
    "    \n",
    "    #Solve the SDP relaxation problem\n",
    "    prob = sum(states)\n",
    "    prob.solve();    \n",
    "\n",
    "    print('Solution: ' + prob.status)\n",
    " \n",
    "    soln1 = z.value.A[0:2, 2]\n",
    "    soln1 = ['%.4f' % elem for elem in soln1]\n",
    "    soln1 = [float(elem) for elem in soln1]\n",
    "\n",
    "    point1 = ['%.4f' % elem for elem in p1]\n",
    "    point1 = [float(elem) for elem in point1]    \n",
    "    print(\"The first point obtained is \" + str(soln1) + \" and the actual value is \" + str(point1))\n",
    "    \n",
    "    soln2 = z.value.A[0:2, 3]\n",
    "    soln2 = ['%.4f' % elem for elem in soln2]\n",
    "    soln2 = [float(elem) for elem in soln2]\n",
    "\n",
    "    point2 = ['%.4f' % elem for elem in p2]\n",
    "    point2 = [float(elem) for elem in point2]    \n",
    "    print(\"The second point obtained is \" + str(soln2) + \" and the actual value is \" + str(point2))    "
   ]
  },
  {
   "cell_type": "markdown",
   "metadata": {},
   "source": [
    "### Both points inside the convex hull"
   ]
  },
  {
   "cell_type": "code",
   "execution_count": null,
   "metadata": {
    "collapsed": true
   },
   "outputs": [],
   "source": [
    "# Construct our points\n",
    "p1 = np.array([-0.4, 0.2])\n",
    "p2 = np.array([0.0, 1.7])\n",
    "solveForTwoPointsSPD(p1,p2)"
   ]
  },
  {
   "cell_type": "markdown",
   "metadata": {},
   "source": [
    "Reason:"
   ]
  },
  {
   "cell_type": "markdown",
   "metadata": {},
   "source": [
    "### Both points inside the convex hull: weakly localizable"
   ]
  },
  {
   "cell_type": "code",
   "execution_count": null,
   "metadata": {
    "collapsed": true
   },
   "outputs": [],
   "source": [
    "# Construct our points\n",
    "p1 = np.array([0.0, 1.3])\n",
    "p2 = np.array([0.6, 0.2])\n",
    "solveForTwoPointsSPD(p1,p2)"
   ]
  },
  {
   "cell_type": "markdown",
   "metadata": {},
   "source": [
    "Reason:"
   ]
  },
  {
   "cell_type": "markdown",
   "metadata": {},
   "source": [
    "### One point inside the convex hull"
   ]
  },
  {
   "cell_type": "code",
   "execution_count": null,
   "metadata": {
    "collapsed": true
   },
   "outputs": [],
   "source": [
    "# Construct our points\n",
    "p1 = np.array([0.0, 0.8])\n",
    "p2 = np.array([3.0, 5.0])\n",
    "solveForTwoPoints(p1,p2)"
   ]
  },
  {
   "cell_type": "markdown",
   "metadata": {},
   "source": [
    "Reason:"
   ]
  },
  {
   "cell_type": "markdown",
   "metadata": {},
   "source": [
    "### Both points outside the convex hull"
   ]
  },
  {
   "cell_type": "code",
   "execution_count": null,
   "metadata": {
    "collapsed": true
   },
   "outputs": [],
   "source": [
    "# Construct our points\n",
    "p1 = np.array([-0.5, -.8])\n",
    "p2 = np.array([3.0, 5.0])\n",
    "solveForTwoPoints(p1,p2)"
   ]
  },
  {
   "cell_type": "markdown",
   "metadata": {},
   "source": [
    "Reason:"
   ]
  },
  {
   "cell_type": "code",
   "execution_count": null,
   "metadata": {
    "collapsed": true
   },
   "outputs": [],
   "source": []
  }
 ],
 "metadata": {
  "kernelspec": {
   "display_name": "Python 3",
   "language": "python",
   "name": "python3"
  },
  "language_info": {
   "codemirror_mode": {
    "name": "ipython",
    "version": 3
   },
   "file_extension": ".py",
   "mimetype": "text/x-python",
   "name": "python",
   "nbconvert_exporter": "python",
   "pygments_lexer": "ipython3",
   "version": "3.6.2"
  }
 },
 "nbformat": 4,
 "nbformat_minor": 2
}
