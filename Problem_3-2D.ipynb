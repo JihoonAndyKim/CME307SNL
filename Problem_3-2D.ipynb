{
 "cells": [
  {
   "cell_type": "code",
   "execution_count": 1,
   "metadata": {
    "collapsed": true
   },
   "outputs": [],
   "source": [
    "# Import CVX and numpy libraries\n",
    "import cvxpy as cvx\n",
    "import numpy as np\n",
    "import random\n",
    "import matplotlib.pyplot as plt\n",
    "from random import shuffle"
   ]
  },
  {
   "cell_type": "code",
   "execution_count": 2,
   "metadata": {
    "collapsed": true
   },
   "outputs": [],
   "source": [
    "def generate(n,npoints):\n",
    "    # Set the limits\n",
    "    origA = np.full((n+1,n),-5.)\n",
    "    rangA = np.full((n+1,n), 10.)\n",
    "    origP = np.full((npoints,n),-5.)\n",
    "    rangP = np.full((npoints,n), 10.)\n",
    "\n",
    "    # Construct the anchor points\n",
    "    a = np.random.rand(n+1,n)\n",
    "    a = origA + np.multiply(a,rangA)\n",
    "\n",
    "    # Construct the sensor points\n",
    "    p = np.random.rand(npoints,n)\n",
    "    p = origP + np.multiply(p,rangP)\n",
    "\n",
    "    adjacency = np.full((npoints+n+1,npoints+n+1),-1.)\n",
    "\n",
    "    if(n > 1):\n",
    "        minConstr = 3\n",
    "        maxConstr = 4\n",
    "        minPointConstr = 1\n",
    "        minAnchConstr = 2\n",
    "    else:\n",
    "        minConstr = 2\n",
    "        maxConstr = 3\n",
    "        minPointConstr = 1\n",
    "        minAnchConstr = 1\n",
    "\n",
    "    anchList = [i for i in range(n+1)]\n",
    "    pointList = [i for i in range(npoints)]\n",
    "    off = n + 1\n",
    "\n",
    "    for i in range(npoints):\n",
    "        random.shuffle(anchList)\n",
    "        random.shuffle(pointList)\n",
    "        # Set anchor constraints, between 1 and 3\n",
    "        numAnch = random.randint(minAnchConstr,minConstr)\n",
    "        for l in range(numAnch):\n",
    "            adjacency[anchList[l],i+off] = np.linalg.norm(a[anchList[l]] - p[i])\n",
    "            adjacency[i+off,anchList[l]] = adjacency[anchList[l],i+off]\n",
    "        print(numAnch)\n",
    "        # Count number of constraints already set for this point\n",
    "        countConstr = 0\n",
    "        for l in range(npoints+off):\n",
    "            if(adjacency[l,i+off] > 0):\n",
    "                countConstr = countConstr + 1\n",
    "        # Set point constraints, between 0 and 3\n",
    "        if(minConstr - countConstr >= 0):\n",
    "            numPoint = random.randint(minConstr-countConstr,3)\n",
    "            count = numPoint\n",
    "            l = 0\n",
    "            while(count > 0 and l < len(pointList)):\n",
    "                if(pointList[l] != i):\n",
    "                        countConstr = 0\n",
    "                        for k in range(npoints+off):\n",
    "                            if(adjacency[k,pointList[l]+off] > 0):\n",
    "                                countConstr = countConstr + 1\n",
    "                        if(countConstr < maxConstr):\n",
    "                            adjacency[pointList[l]+off,i+off] = np.linalg.norm(p[pointList[l]] - p[i])\n",
    "                            adjacency[i+off,pointList[l]+off] = adjacency[pointList[l]+off,i+off]\n",
    "                            count = count - 1\n",
    "                l = l + 1\n",
    "    return [a, p, adjacency]"
   ]
  },
  {
   "cell_type": "code",
   "execution_count": 49,
   "metadata": {
    "collapsed": true
   },
   "outputs": [],
   "source": [
    "# Function to solve for a specific block, given a beta\n",
    "def solveXYBlock(Y, y_points, anchors, adjacency, n, npoints, beta):\n",
    "    off = n + 1\n",
    "    \n",
    "    xlist = []\n",
    "    for j in range(npoints):\n",
    "        xlist.append(cvx.Variable(n))\n",
    "        \n",
    "    objfunc = 0 * cvx.Variable(1)\n",
    "    constr  = 0 * cvx.Variable(n)\n",
    "    \n",
    "    for j in range(off,off+npoints):\n",
    "        \n",
    "        # Add the anchor constraints\n",
    "        x_j = xlist[j-off]\n",
    "        for k in range(off):\n",
    "            if(adjacency[k,j] > 0.):\n",
    "                objfunc += ((anchors[k]-x_j).T*(anchors[k]-y_points[j-off]) - adjacency[k,j]**2)**2\n",
    "                \n",
    "        # Add the point to point constraints\n",
    "        for i in range(off,off+npoints):\n",
    "            if(adjacency[i,j] > 0.):\n",
    "                #d_ij\n",
    "                x_i = xlist[i-off]\n",
    "                objfunc += ((x_i - x_j).T * (y_points[i-off]-y_points[j-off]) - adjacency[i,j]**2)**2\n",
    "\n",
    "        # Constraints\n",
    "        constr += x_j - y_points[j-off]\n",
    "        \n",
    "    # Construct the problem\n",
    "    objective = cvx.Minimize(objfunc \\\n",
    "                             - cvx.sum_entries(cvx.mul_elemwise(Y,constr)) \\\n",
    "                             + (beta / 2.) * cvx.norm(constr,2)**2)\n",
    "    p = cvx.Problem(objective)\n",
    "\n",
    "    # Solve\n",
    "    result = p.solve()\n",
    "    \n",
    "    x = [xlist[i].value.A.flatten() for i in range(npoints)]\n",
    "    \n",
    "    return x"
   ]
  },
  {
   "cell_type": "code",
   "execution_count": 86,
   "metadata": {},
   "outputs": [
    {
     "name": "stdout",
     "output_type": "stream",
     "text": [
      "3\n",
      "2\n",
      "3\n",
      "2\n",
      "2\n"
     ]
    }
   ],
   "source": [
    "n = 2\n",
    "npoints = 5\n",
    "[a,p,adjacency]=generate(n,npoints)"
   ]
  },
  {
   "cell_type": "code",
   "execution_count": 98,
   "metadata": {},
   "outputs": [
    {
     "name": "stdout",
     "output_type": "stream",
     "text": [
      "Populating the interactive namespace from numpy and matplotlib\n"
     ]
    },
    {
     "data": {
      "image/png": "[encoded data removed]",
      "text/plain": [
       "<matplotlib.figure.Figure at 0x110fbc780>"
      ]
     },
     "metadata": {},
     "output_type": "display_data"
    }
   ],
   "source": [
    "import matplotlib.pyplot as plt\n",
    "import networkx as nx\n",
    "%pylab inline --no-import-all\n",
    "if(n == 2):\n",
    "    G=nx.Graph()\n",
    "\n",
    "    for i in range(n+1):\n",
    "        G.add_node(i,pos=a[i])\n",
    "\n",
    "    for i in range(npoints):\n",
    "        G.add_node(n+1+i,pos=p[i])\n",
    "\n",
    "    pos=nx.get_node_attributes(G,'pos')\n",
    "\n",
    "    nx.draw_networkx_nodes(G,pos,\n",
    "                           nodelist=[i for i in range(n+1)],\n",
    "                           node_color='r',\n",
    "                           node_size=100,\n",
    "                           alpha=0.8,\n",
    "                           with_labels=True)\n",
    "    nx.draw_networkx_nodes(G,pos,\n",
    "                           nodelist=[i for i in range(n+1,npoints+n+1)],\n",
    "                           node_color='b',\n",
    "                           node_size=100,\n",
    "                           alpha=0.8,\n",
    "                           with_labels=True)\n",
    "    for i in range(npoints+n+1):\n",
    "        for j in range(n+1,npoints+n+1):\n",
    "            if(adjacency[j,i] > 0.):\n",
    "                G.add_edge(i,j)\n",
    "\n",
    "    nx.draw_networkx_edges(G, pos)\n",
    "    nx.draw_networkx_labels(G, pos,font_color='w',font_size=8,font_weight='bold')\n",
    "    plt.draw()  # pyplot draw()"
   ]
  },
  {
   "cell_type": "code",
   "execution_count": 88,
   "metadata": {},
   "outputs": [
    {
     "data": {
      "image/png": "[encoded data removed]",
      "text/plain": [
       "<matplotlib.figure.Figure at 0x1034cd898>"
      ]
     },
     "metadata": {},
     "output_type": "display_data"
    }
   ],
   "source": [
    "beta  = 0.5\n",
    "niter = 600\n",
    "\n",
    "Y = np.random.rand(n)\n",
    "\n",
    "y_points = []\n",
    "x_points = []\n",
    "for j in range(npoints):\n",
    "    y_points.append(np.random.rand(n))\n",
    "    x_points.append(np.random.rand(n))\n",
    "\n",
    "res = np.zeros(int(niter/5))\n",
    "\n",
    "for it in range(niter):\n",
    "    x_points = solveXYBlock(Y,y_points,a, adjacency,n,npoints,beta)\n",
    "    y_points = solveXYBlock(Y,x_points,a, adjacency,n,npoints,beta)\n",
    "    for j in range(npoints):\n",
    "        Y -= beta*(x_points[j] - y_points[j])\n",
    "    if(it % 5 == 0):\n",
    "        res[int(it/5)] = np.dot(Y,Y)\n",
    "\n",
    "plt.plot(range(res.size),res)\n",
    "plt.show()"
   ]
  },
  {
   "cell_type": "code",
   "execution_count": 89,
   "metadata": {},
   "outputs": [
    {
     "data": {
      "text/plain": [
       "[array([-2.15401409, -2.93654571]),\n",
       " array([-0.68694763,  2.69307499]),\n",
       " array([-2.43237428, -1.11480842]),\n",
       " array([ 5.17641606, -4.39800589]),\n",
       " array([ 1.12165264,  5.33209892])]"
      ]
     },
     "execution_count": 89,
     "metadata": {},
     "output_type": "execute_result"
    }
   ],
   "source": [
    "x_points"
   ]
  },
  {
   "cell_type": "code",
   "execution_count": 90,
   "metadata": {},
   "outputs": [
    {
     "data": {
      "text/plain": [
       "array([[-2.08829627, -2.78878649],\n",
       "       [-0.54506786,  2.35613685],\n",
       "       [-2.32595169, -1.06866985],\n",
       "       [ 4.78630027, -3.86622874],\n",
       "       [ 1.1875406 ,  4.8899667 ]])"
      ]
     },
     "execution_count": 90,
     "metadata": {},
     "output_type": "execute_result"
    }
   ],
   "source": [
    "p"
   ]
  }
 ],
 "metadata": {
  "kernelspec": {
   "display_name": "Python 3",
   "language": "python",
   "name": "python3"
  },
  "language_info": {
   "codemirror_mode": {
    "name": "ipython",
    "version": 3
   },
   "file_extension": ".py",
   "mimetype": "text/x-python",
   "name": "python",
   "nbconvert_exporter": "python",
   "pygments_lexer": "ipython3",
   "version": "3.6.2"
  }
 },
 "nbformat": 4,
 "nbformat_minor": 2
}
