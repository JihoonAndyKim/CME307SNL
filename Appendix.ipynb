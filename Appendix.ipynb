{
 "cells": [
  {
   "cell_type": "code",
   "execution_count": 399,
   "metadata": {
    "collapsed": true
   },
   "outputs": [],
   "source": [
    "# Import CVX and numpy libraries\n",
    "import cvxpy as cvx\n",
    "import numpy as np\n",
    "import random\n",
    "import time\n",
    "import math\n",
    "import networkx as nx\n",
    "import matplotlib.pyplot as plt"
   ]
  },
  {
   "cell_type": "markdown",
   "metadata": {},
   "source": [
    "# Problem 1: SOCP, SDP and Unconstrained Optimization\n"
   ]
  },
  {
   "cell_type": "markdown",
   "metadata": {},
   "source": [
    "Code to randomly generate the programming problems. The generate function randomly spawns anchor points and sensor locations as well as an adjacency matrix, which enumerates which sensors are connected to which anchors/sensors."
   ]
  },
  {
   "cell_type": "code",
   "execution_count": 400,
   "metadata": {
    "collapsed": true
   },
   "outputs": [],
   "source": [
    "#Function to generate a random problem, in \n",
    "# n dimensions with npoints number of points\n",
    "def generate(n,npoints):\n",
    "    # Set the limits of the domain\n",
    "    origA = np.full((n+1,n),-5.)\n",
    "    rangA = np.full((n+1,n), 10.)\n",
    "    origP = np.full((npoints,n),-5.)\n",
    "    rangP = np.full((npoints,n), 10.)\n",
    "\n",
    "    # Construct the anchor points\n",
    "    a = np.random.rand(n+1,n)\n",
    "    a = origA + np.multiply(a,rangA)\n",
    "\n",
    "    # Construct the sensor points\n",
    "    p = np.random.rand(npoints,n)\n",
    "    p = origP + np.multiply(p,rangP)\n",
    "\n",
    "    #Set up some problem characteristics\n",
    "    if(n > 1): # 2-D and 3-D cases\n",
    "        minConstr = 3 # Minimum number of constraints per point\n",
    "        maxConstr = 4 # Approximately maximum number of constraints\n",
    "        minAnchConstr = 2 # Minimum number of anchor constraints\n",
    "    else:\n",
    "        minConstr = 2 # Minimum number of constraints per point\n",
    "        maxConstr = 3 # Approximately maximum number of constraints\n",
    "        minAnchConstr = 1 # Minimum number of anchor constraints\n",
    "    \n",
    "    # Build the adjacency matrix\n",
    "    adjacency = np.full((npoints+n+1,npoints+n+1),-1.)\n",
    "\n",
    "    anchList = [i for i in range(n+1)]\n",
    "    pointList = [i for i in range(npoints)]\n",
    "    off = n + 1\n",
    "\n",
    "    for i in range(npoints):\n",
    "        random.shuffle(anchList)\n",
    "        random.shuffle(pointList)\n",
    "        # Set anchor constraints\n",
    "        numAnch = random.randint(minAnchConstr,minConstr)\n",
    "        for l in range(numAnch):\n",
    "            adjacency[anchList[l],i+off] = np.linalg.norm(a[anchList[l]] - p[i])\n",
    "            adjacency[i+off,anchList[l]] = adjacency[anchList[l],i+off]\n",
    "        # Count number of constraints already set for this point\n",
    "        countConstr = 0\n",
    "        for l in range(npoints+off):\n",
    "            if(adjacency[l,i+off] > 0):\n",
    "                countConstr = countConstr + 1\n",
    "        # Set point constraints\n",
    "        if(minConstr - countConstr >= 0):\n",
    "            numPoint = random.randint(minConstr-countConstr,3)\n",
    "            count = numPoint\n",
    "            l = 0\n",
    "            while(count > 0 and l < len(pointList)):\n",
    "                # If the point with which to set the constraint is different\n",
    "                if(pointList[l] != i):\n",
    "                    # Make sure that the node to connect does \n",
    "                    # not have too many constraints\n",
    "                    countConstr = 0\n",
    "                    for k in range(npoints+off):\n",
    "                        if(adjacency[k,pointList[l]+off] > 0):\n",
    "                            countConstr = countConstr + 1\n",
    "                    if(countConstr < maxConstr):\n",
    "                        # Add the new constraint\n",
    "                        adjacency[pointList[l]+off,i+off] = \\\n",
    "                            np.linalg.norm(p[pointList[l]] - p[i])\n",
    "                        adjacency[i+off,pointList[l]+off] = \\\n",
    "                            adjacency[pointList[l]+off,i+off]\n",
    "                        count = count - 1\n",
    "                l = l + 1\n",
    "    return [a, p, adjacency]"
   ]
  },
  {
   "cell_type": "markdown",
   "metadata": {},
   "source": [
    "The following code forces the sensors to be located within the convex hull of the anchors."
   ]
  },
  {
   "cell_type": "code",
   "execution_count": 401,
   "metadata": {
    "collapsed": true
   },
   "outputs": [],
   "source": [
    "#The exact same function above with the exception that\n",
    "#now the points are forced inside the convex hull\n",
    "def generate_inside_hull(n,npoints):\n",
    "    # Set the limits\n",
    "    origA = np.full((n+1,n),-5.)\n",
    "    rangA = np.full((n+1,n), 10.)\n",
    "    origP = np.full((npoints,n),-5.)\n",
    "    rangP = np.full((npoints,n), 10.)\n",
    "    \n",
    "    if(n == 1):\n",
    "        a = np.array([-6., 6.])\n",
    "    elif(n == 2):\n",
    "        a = np.array([[-6., 15.], [-6., -15.], [8., 0.]])\n",
    "    elif(n == 3):\n",
    "        a = np.array([[-6., 15.,-10.], [-6., -15.,-10.], \\\n",
    "                      [8., 0., -10.], [0., 0., 10.]])\n",
    "    # Construct the sensor points\n",
    "    p = np.random.rand(npoints,n)\n",
    "    p = origP + np.multiply(p,rangP)\n",
    "\n",
    "    adjacency = np.full((npoints+n+1,npoints+n+1),-1.)\n",
    "\n",
    "    if(n > 1):\n",
    "        minConstr = 3\n",
    "        maxConstr = 4\n",
    "        minPointConstr = 2\n",
    "        minAnchConstr = 2\n",
    "    else:\n",
    "        minConstr = 2\n",
    "        maxConstr = 3\n",
    "        minPointConstr = 1\n",
    "        minAnchConstr = 1\n",
    "\n",
    "    anchList = [i for i in range(n+1)]\n",
    "    pointList = [i for i in range(npoints)]\n",
    "    off = n + 1\n",
    "\n",
    "    for i in range(npoints):\n",
    "        random.shuffle(anchList)\n",
    "        random.shuffle(pointList)\n",
    "        # Set anchor constraints, between 1 and 3\n",
    "        numAnch = random.randint(minAnchConstr,minConstr)\n",
    "        for l in range(numAnch):\n",
    "            adjacency[anchList[l],i+off] = np.linalg.norm(a[anchList[l]] - p[i])\n",
    "            adjacency[i+off,anchList[l]] = adjacency[anchList[l],i+off]\n",
    "        #print(numAnch)\n",
    "        # Count number of constraints already set for this point\n",
    "        countConstr = 0\n",
    "        for l in range(npoints+off):\n",
    "            if(adjacency[l,i+off] > 0):\n",
    "                countConstr = countConstr + 1\n",
    "        # Set point constraints, between 0 and 3\n",
    "        if(minConstr - countConstr >= 0):\n",
    "            numPoint = random.randint(minConstr-countConstr,3)\n",
    "            count = numPoint\n",
    "            l = 0\n",
    "            while(count > 0 and l < len(pointList)):\n",
    "                if(pointList[l] != i):\n",
    "                    countConstr = 0\n",
    "                    for k in range(npoints+off):\n",
    "                        if(adjacency[k,pointList[l]+off] > 0):\n",
    "                            countConstr = countConstr + 1\n",
    "                    if(countConstr < maxConstr):\n",
    "                        adjacency[pointList[l]+off,i+off] = \\\n",
    "                            np.linalg.norm(p[pointList[l]] - p[i])\n",
    "                        adjacency[i+off,pointList[l]+off] = \\\n",
    "                            adjacency[pointList[l]+off,i+off]\n",
    "                        count = count - 1\n",
    "                l = l + 1\n",
    "    return [a, p, adjacency]"
   ]
  },
  {
   "cell_type": "markdown",
   "metadata": {},
   "source": [
    "## SOCP"
   ]
  },
  {
   "cell_type": "markdown",
   "metadata": {},
   "source": [
    "Solve the SOCP problem with n dimensions and npoints sensors"
   ]
  },
  {
   "cell_type": "code",
   "execution_count": 431,
   "metadata": {
    "collapsed": true
   },
   "outputs": [],
   "source": [
    "def SOCP(n, npoints, convex, niters, printOut = False, timing = True):\n",
    "    #Generate the anchors, sensor locations and the corresponding adjacency matrix\n",
    "    totalRMSE = 0\n",
    "    start = time.time()\n",
    "    for k in range(niters):\n",
    "        #To catch any exceptions\n",
    "        while True:\n",
    "            try:\n",
    "                #Force problem in or outside the convex hull\n",
    "                if convex:\n",
    "                    (a, p, adjacency) = generate(n, npoints)\n",
    "                else:\n",
    "                    (a, p, adjacency) = generate_inside_hull(n, npoints)\n",
    "\n",
    "                # Compute the Euclidian distances to the anchor points\n",
    "                adjSize = len(p) + len(a)\n",
    "                asize = len(a)\n",
    "                d = []\n",
    "\n",
    "                #Retrieve the distances from adjacency matrix\n",
    "                for i in range(adjSize):\n",
    "                    for j in range(adjSize):\n",
    "                        if(j > i and adjacency[i][j] > 0 and i < asize):\n",
    "                            d.append((adjacency[i][j], j - asize, i, True))\n",
    "                        elif(j > i and adjacency[i][j] > 0):\n",
    "                            d.append((adjacency[i][j], i - asize, j - asize, False))\n",
    "\n",
    "                # Construct the CVX variables to minimize\n",
    "                x = [cvx.Variable(n) for i in range(len(p))]\n",
    "\n",
    "                states = []\n",
    "                constr = []\n",
    "\n",
    "                #Construct the obj fcn as well as the constraints\n",
    "                #These correspond to SOCP constraints\n",
    "                cost = cvx.norm(0)\n",
    "                for (distance, i, j, truth) in d:\n",
    "                    if(truth):\n",
    "                        constr.append(cvx.norm(x[i] - a[j], 2) ** 2 <= distance ** 2)\n",
    "                    else:\n",
    "                        constr.append(cvx.norm(x[i] - x[j], 2) ** 2 <= distance ** 2)\n",
    "\n",
    "                states.append(cvx.Problem(cvx.Minimize(cost), constr))\n",
    "\n",
    "                # Add the states and solve the problem    \n",
    "                prob = sum(states)\n",
    "                prob.solve()\n",
    "                \n",
    "                if printOut:\n",
    "                    print \"Anchor points: \", a\n",
    "                    \n",
    "                #Compute RMSE\n",
    "                RMSE = 0\n",
    "                #Depending on the dimension, cater the output\n",
    "                if(n == 1): #Solves it more or less\n",
    "                    for i, elem in enumerate(x):\n",
    "                        soln1 = elem.value\n",
    "                        point1 = p[i]\n",
    "                        if printOut:\n",
    "                            print(\"Sensor \" + str(i) + \" is at \" + \\\n",
    "                                  str(soln1) + \" and the actual value is \" + \\\n",
    "                                  str(point1))\n",
    "                        RMSE += np.linalg.norm(soln1 - point1) ** 2\n",
    "                elif(n == 2): #Can't solve this)\n",
    "                    for i, elem in enumerate(x):\n",
    "                        soln1 = elem.value.A.flatten()\n",
    "                        soln1 = ['%.4f' % elem for elem in soln1]\n",
    "                        soln1 = [float(elem) for elem in soln1]\n",
    "                        point1 = ['%.4f' % elem for elem in p[i]]\n",
    "                        point1 = [float(elem) for elem in point1]\n",
    "                        if printOut:\n",
    "                            print(\"Sensor \" + str(i) + \" is at \" + str(soln1) + \\\n",
    "                                  \" and the actual value is \" + \\\n",
    "                                  str(point1))\n",
    "                        RMSE += np.linalg.norm(np.asarray(soln1) - \\\n",
    "                                               np.asarray(point1)) ** 2\n",
    "                else:\n",
    "                    for i, elem in enumerate(x):\n",
    "                        soln1 = elem.value.A.flatten()\n",
    "                        soln1 = ['%.4f' % elem for elem in soln1]\n",
    "                        soln1 = [float(elem) for elem in soln1]\n",
    "                        point1 = ['%.4f' % elem for elem in p[i]]\n",
    "                        point1 = [float(elem) for elem in point1]\n",
    "                        if printOut:\n",
    "                            print(\"Sensor \" + str(i) + \" is at \" + str(soln1) + \\\n",
    "                                  \" and the actual value is \" + str(point1))\n",
    "                        RMSE += np.linalg.norm(np.asarray(soln1) - \\\n",
    "                                               np.asarray(point1)) ** 2\n",
    "            except:\n",
    "                continue\n",
    "            break\n",
    "    \n",
    "        #Add to the running total for the RMSE\n",
    "        totalRMSE += RMSE\n",
    "        \n",
    "        end = time.time()\n",
    "        \n",
    "        #If the dimension = 2 then plot the graph\n",
    "        if(n == 2 and printOut):\n",
    "            G=nx.Graph()\n",
    "\n",
    "            for i in range(n+1):\n",
    "                G.add_node(i,pos=a[i])\n",
    "\n",
    "            for i in range(npoints):\n",
    "                G.add_node(n+1+i,pos=p[i])\n",
    "\n",
    "            pos=nx.get_node_attributes(G,'pos')\n",
    "\n",
    "            nx.draw_networkx_nodes(G,pos,\n",
    "                                   nodelist=[i for i in range(n+1)],\n",
    "                                   node_color='r',\n",
    "                                   node_size=100,\n",
    "                                   alpha=0.8,\n",
    "                                   with_labels=True)\n",
    "            nx.draw_networkx_nodes(G,pos,\n",
    "                                   nodelist=[i for i in range(n+1,npoints+n+1)],\n",
    "                                   node_color='b',\n",
    "                                   node_size=100,\n",
    "                                   alpha=0.8,\n",
    "                                   with_labels=True)\n",
    "            for i in range(npoints+n+1):\n",
    "                for j in range(n+1,npoints+n+1):\n",
    "                    if(adjacency[j,i] > 0.):\n",
    "                        G.add_edge(i,j)\n",
    "\n",
    "            nx.draw_networkx_edges(G, pos)\n",
    "            nx.draw_networkx_labels(G, pos,font_color='w', \\\n",
    "                                    font_size=8,font_weight='bold')\n",
    "            plt.draw()  # pyplot draw()\n",
    "            \n",
    "    #Compute the timing and the RMSE\n",
    "    if timing:\n",
    "        print \"Total time elapsed(sec): \", end - start\n",
    "    print \"Average Root Mean Squared Error: \", math.sqrt(totalRMSE/niters)"
   ]
  },
  {
   "cell_type": "code",
   "execution_count": 432,
   "metadata": {},
   "outputs": [
    {
     "name": "stdout",
     "output_type": "stream",
     "text": [
      "Anchor points:  [[-1.24061837 -0.55795391]\n",
      " [ 2.56835104 -0.13244273]\n",
      " [-4.35839429 -4.82609378]]\n",
      "Sensor 0 is at [1.471, -0.5913] and the actual value is [4.1492, -1.5227]\n",
      "Sensor 1 is at [0.5339, -1.3045] and the actual value is [1.5191, -2.4637]\n",
      "Sensor 2 is at [0.4944, -0.5121] and the actual value is [0.3957, 0.3343]\n",
      "Sensor 3 is at [2.4744, -0.1632] and the actual value is [2.7428, -0.2082]\n",
      "Sensor 4 is at [2.0732, -0.3688] and the actual value is [4.4904, -0.4515]\n",
      "Sensor 5 is at [0.4996, -1.1834] and the actual value is [4.2803, -3.8445]\n",
      "Sensor 6 is at [-1.5066, -1.4559] and the actual value is [-3.011, 0.7971]\n",
      "Sensor 7 is at [-0.068, -1.8885] and the actual value is [0.8515, -3.0421]\n",
      "Sensor 8 is at [-0.5539, -1.9454] and the actual value is [1.8406, -4.4702]\n",
      "Sensor 9 is at [-3.2366, -4.0638] and the actual value is [-3.0714, -4.3568]\n",
      "Total time elapsed(sec):  0.359204053879\n",
      "Average Root Mean Squared Error:  7.7534863655\n"
     ]
    },
    {
     "data": {
      "image/png": "[encoded data removed]",
      "text/plain": [
       "<matplotlib.figure.Figure at 0x7f4affa49410>"
      ]
     },
     "metadata": {},
     "output_type": "display_data"
    }
   ],
   "source": [
    "#Solve 2-D with 10 sensors outside the convex hull\n",
    "SOCP(2, 10, True, 1, True)"
   ]
  },
  {
   "cell_type": "code",
   "execution_count": 407,
   "metadata": {},
   "outputs": [
    {
     "name": "stdout",
     "output_type": "stream",
     "text": [
      "Anchor points:  [[ -6.  15.]\n",
      " [ -6. -15.]\n",
      " [  8.   0.]]\n",
      "Sensor 0 is at [3.4504, 4.7177] and the actual value is [3.4505, 4.7178]\n",
      "Sensor 1 is at [-3.2187, 3.9301] and the actual value is [-1.137, 4.3267]\n",
      "Sensor 2 is at [-3.9177, 3.5643] and the actual value is [-3.9177, 3.5643]\n",
      "Sensor 3 is at [4.3217, 1.841] and the actual value is [4.3217, 1.841]\n",
      "Sensor 4 is at [2.8746, 1.5629] and the actual value is [2.8746, 1.5629]\n",
      "Sensor 5 is at [0.6261, -1.593] and the actual value is [1.9492, -2.2667]\n",
      "Sensor 6 is at [0.4349, -3.2459] and the actual value is [2.806, -4.6094]\n",
      "Sensor 7 is at [0.0618, 0.2883] and the actual value is [0.0618, 0.2883]\n",
      "Sensor 8 is at [-2.1504, -4.4019] and the actual value is [-2.1504, -4.4019]\n",
      "Sensor 9 is at [4.6062, 3.6363] and the actual value is [1.0624, -1.2807]\n",
      "Total time elapsed(sec):  0.356856822968\n",
      "Average Root Mean Squared Error:  7.13525659455\n"
     ]
    },
    {
     "data": {
      "image/png": "[encoded data removed]",
      "text/plain": [
       "<matplotlib.figure.Figure at 0x7f4afe427b50>"
      ]
     },
     "metadata": {},
     "output_type": "display_data"
    }
   ],
   "source": [
    "#Solve 2-D with 10 sensors inside the convex hull\n",
    "SOCP(2, 10, False, 1, True)"
   ]
  },
  {
   "cell_type": "code",
   "execution_count": 408,
   "metadata": {},
   "outputs": [
    {
     "name": "stdout",
     "output_type": "stream",
     "text": [
      "Total time elapsed(sec):  8.29544711113\n",
      "Average Root Mean Squared Error:  9.42692399813\n"
     ]
    }
   ],
   "source": [
    "#Solve 1-D with 10 sensors randomly generated\n",
    "SOCP(1, 10, True, 100)"
   ]
  },
  {
   "cell_type": "code",
   "execution_count": 409,
   "metadata": {},
   "outputs": [
    {
     "name": "stdout",
     "output_type": "stream",
     "text": [
      "Total time elapsed(sec):  9.96485209465\n",
      "Average Root Mean Squared Error:  5.81985405852\n"
     ]
    }
   ],
   "source": [
    "#Solve 1-D with 10 sensors inside the convex hull\n",
    "SOCP(1, 10, False, 100)"
   ]
  },
  {
   "cell_type": "code",
   "execution_count": 410,
   "metadata": {},
   "outputs": [
    {
     "name": "stdout",
     "output_type": "stream",
     "text": [
      "Total time elapsed(sec):  11.263933897\n",
      "Average Root Mean Squared Error:  12.2941148022\n"
     ]
    }
   ],
   "source": [
    "#Solve 2-D with 10 sensors outside the convex hull\n",
    "SOCP(2, 10, True, 100)"
   ]
  },
  {
   "cell_type": "code",
   "execution_count": 411,
   "metadata": {},
   "outputs": [
    {
     "name": "stdout",
     "output_type": "stream",
     "text": [
      "Total time elapsed(sec):  24.3332779408\n",
      "Average Root Mean Squared Error:  7.04751513325\n"
     ]
    }
   ],
   "source": [
    "#Solve 2-D with 10 sensors inside the convex hull\n",
    "SOCP(2, 10, False, 100)"
   ]
  },
  {
   "cell_type": "code",
   "execution_count": 412,
   "metadata": {},
   "outputs": [
    {
     "name": "stdout",
     "output_type": "stream",
     "text": [
      "Total time elapsed(sec):  9.46475696564\n",
      "Average Root Mean Squared Error:  15.7684826823\n"
     ]
    }
   ],
   "source": [
    "#Solve 3-D with 10 sensors outside the convex hull\n",
    "SOCP(3, 10, True, 100)"
   ]
  },
  {
   "cell_type": "code",
   "execution_count": 413,
   "metadata": {},
   "outputs": [
    {
     "name": "stdout",
     "output_type": "stream",
     "text": [
      "Total time elapsed(sec):  10.029624939\n",
      "Average Root Mean Squared Error:  15.0895796464\n"
     ]
    }
   ],
   "source": [
    "#Solve 3-D with 10 sensors inside the convex hull\n",
    "SOCP(3, 10, False, 100)"
   ]
  },
  {
   "cell_type": "markdown",
   "metadata": {},
   "source": [
    "## SDP"
   ]
  },
  {
   "cell_type": "markdown",
   "metadata": {},
   "source": [
    "We now perform the same operation done above with the SOCP problem as with the SDP problem. Note that all that changes is the constraint types."
   ]
  },
  {
   "cell_type": "code",
   "execution_count": 433,
   "metadata": {
    "collapsed": true
   },
   "outputs": [],
   "source": [
    "def SDP(n, npoints, convex, niter, printOut = False):\n",
    "    #Keep time and a running total of the RMSE to average later on\n",
    "    start = time.time()\n",
    "    totalRMSE = 0\n",
    "    for iteration in range(niter):\n",
    "        if convex:\n",
    "            (a, p, adjacency) = generate(n, npoints)\n",
    "        else:\n",
    "            (a, p, adjacency) = generate_inside_hull(n, npoints)\n",
    "\n",
    "        # Compute the Euclidian distances to the anchor points\n",
    "        adjSize = len(p) + len(a)\n",
    "        asize = len(a)\n",
    "        d = []\n",
    "\n",
    "        #Retrieve the distances\n",
    "        for i in range(adjSize):\n",
    "            for j in range(adjSize):\n",
    "                if(j > i and adjacency[i][j] > 0 and i < asize):\n",
    "                    d.append((adjacency[i][j], j - asize, i, True))\n",
    "                elif(j > i and adjacency[i][j] > 0):\n",
    "                    d.append((adjacency[i][j], i - asize, j - asize, False))\n",
    "\n",
    "        #Dimension of our adjancency matrix and our z matrix\n",
    "        T = n + npoints\n",
    "\n",
    "        z = cvx.Semidef(T)\n",
    "        \n",
    "        #The following code constructs all the constraints of the SDP \n",
    "        #problem.\n",
    "        eyeConstraint = []\n",
    "        anchorConstraints = []\n",
    "        pointConstraints = []\n",
    "\n",
    "        for i in range(n):\n",
    "            temp = np.zeros((T,T))\n",
    "            temp[i][i] = 1\n",
    "            eyeConstraint.append(temp)\n",
    "\n",
    "        temp = np.zeros((T,T))\n",
    "        for i in range(n):\n",
    "            for j in range(n):\n",
    "                temp[i][j] = 1\n",
    "        eyeConstraint.append(temp)\n",
    "\n",
    "        for (distance, i, j, truth) in d:\n",
    "            if truth:\n",
    "                temp = np.zeros(npoints)\n",
    "                temp[i] = -1.\n",
    "                anchorConstraints.append((np.outer(np.append(a[j], temp), \\\n",
    "                                          np.append(a[j], temp)), distance))\n",
    "            else:\n",
    "                tempi = np.zeros(npoints)\n",
    "                tempj = np.zeros(npoints)\n",
    "                tempi[i] = 1.\n",
    "                tempj[j] = 1.\n",
    "                temp = tempi - tempj\n",
    "                corner = np.zeros(n)\n",
    "                temp = np.append(corner, temp)\n",
    "                pointConstraints.append((np.outer(temp,temp), distance))\n",
    "\n",
    "        #Another empty states list\n",
    "        states = []\n",
    "        \n",
    "        #Construct the cost and constraints\n",
    "        cost = cvx.norm(0)\n",
    "        constr = []\n",
    "\n",
    "        for i, mat in enumerate(eyeConstraint):\n",
    "            if i < len(eyeConstraint) - 1:\n",
    "                constr.append(cvx.sum_entries(cvx.mul_elemwise(mat, z)) == 1)\n",
    "            else:\n",
    "                constr.append(cvx.sum_entries(cvx.mul_elemwise(mat, z)) == n)\n",
    "\n",
    "        for mat in anchorConstraints:\n",
    "            constr.append(cvx.sum_entries(cvx.mul_elemwise(mat[0], z)) ==  \\\n",
    "                                                              mat[1] ** 2)\n",
    "\n",
    "        for mat in pointConstraints:\n",
    "            constr.append(cvx.sum_entries(cvx.mul_elemwise(mat[0], z)) ==  \\\n",
    "                                                              mat[1] ** 2)\n",
    "        #Force the matrix to be SDP\n",
    "        constr.append(z >> 0)\n",
    "\n",
    "        #Add the constraints and cost function\n",
    "        states.append(cvx.Problem(cvx.Minimize(cost), constr))\n",
    "\n",
    "        #Solve the SDP relaxation problem\n",
    "        prob = sum(states)\n",
    "        prob.solve();    \n",
    "        \n",
    "        #Compute this trials RMSE\n",
    "        RMSE = 0\n",
    "        for i in range(npoints):\n",
    "            soln1 = z.value.A[0:n, i + n]\n",
    "            point1 = p[i]\n",
    "            if printOut:\n",
    "                print(\"Sensor \" + str(i) + \" is located at \" + str(soln1) + \" and the actual value is \" + str(point1))\n",
    "            RMSE += np.linalg.norm(np.asarray(soln1) - np.asarray(point1)) ** 2\n",
    "    \n",
    "        #Add the trial's RMSE to the running total\n",
    "        totalRMSE += RMSE\n",
    "    #Compute the total RMSE\n",
    "    end = time.time()\n",
    "    print \"Total Time Elapsed: \", end - start\n",
    "    print \"Average RMSE: \", math.sqrt(totalRMSE / niter)"
   ]
  },
  {
   "cell_type": "code",
   "execution_count": 441,
   "metadata": {},
   "outputs": [
    {
     "name": "stdout",
     "output_type": "stream",
     "text": [
      "Sensor 0 is located at [ 0.6237891   1.82014375] and the actual value is [ 0.62054758  1.82257295]\n",
      "Sensor 1 is located at [ 2.12336648 -2.9972174 ] and the actual value is [ 1.8966841  -3.13944462]\n",
      "Sensor 2 is located at [ 4.21792369  4.66594832] and the actual value is [ 4.2671952   4.64651543]\n",
      "Sensor 3 is located at [ 2.89410492  4.58177234] and the actual value is [ 2.94306109  4.56241905]\n",
      "Sensor 4 is located at [ 2.3207963   0.89353663] and the actual value is [ 2.50379035  0.81448951]\n",
      "Sensor 5 is located at [-0.2330296  -3.55660157] and the actual value is [-0.26426638 -3.54482724]\n",
      "Sensor 6 is located at [ 1.03445186  1.77782522] and the actual value is [ 0.98041212  1.79973514]\n",
      "Sensor 7 is located at [ 2.21477017 -2.81781003] and the actual value is [ 2.25120086 -2.83189328]\n",
      "Sensor 8 is located at [ 0.02506119 -3.02008301] and the actual value is [ 0.01925351 -3.01901888]\n",
      "Sensor 9 is located at [-0.32293434  3.64746991] and the actual value is [-0.33584087  3.65387271]\n",
      "Total Time Elapsed:  0.296957015991\n",
      "Average RMSE:  0.351033351532\n"
     ]
    }
   ],
   "source": [
    "SDP(2, 10, True, 1, True)"
   ]
  },
  {
   "cell_type": "code",
   "execution_count": 442,
   "metadata": {},
   "outputs": [
    {
     "name": "stdout",
     "output_type": "stream",
     "text": [
      "Total Time Elapsed:  5.99583005905\n",
      "Average RMSE:  1.08563903171\n"
     ]
    }
   ],
   "source": [
    "#Solve 1-D case with SDP with 10 sensors outside the convex hull\n",
    "SDP(1, 10, True, 100, False)"
   ]
  },
  {
   "cell_type": "code",
   "execution_count": 443,
   "metadata": {},
   "outputs": [
    {
     "name": "stdout",
     "output_type": "stream",
     "text": [
      "Total Time Elapsed:  10.6839389801\n",
      "Average RMSE:  0.49179208328\n"
     ]
    }
   ],
   "source": [
    "#Solve 1-D case with SDP with 10 sensors inside the convex hull\n",
    "SDP(1, 10, False, 100, False)"
   ]
  },
  {
   "cell_type": "code",
   "execution_count": 444,
   "metadata": {},
   "outputs": [
    {
     "name": "stdout",
     "output_type": "stream",
     "text": [
      "Total Time Elapsed:  13.4767358303\n",
      "Average RMSE:  2.16532826806\n"
     ]
    }
   ],
   "source": [
    "#Solve 2-D case with SDP with 10 sensors outside the convex hull\n",
    "SDP(2, 10, True, 100, False)"
   ]
  },
  {
   "cell_type": "code",
   "execution_count": 445,
   "metadata": {},
   "outputs": [
    {
     "name": "stdout",
     "output_type": "stream",
     "text": [
      "Total Time Elapsed:  29.088793993\n",
      "Average RMSE:  1.09069415472\n"
     ]
    }
   ],
   "source": [
    "#Solve 2-D case with SDP with 10 sensors inside the convex hull\n",
    "SDP(2, 10, False, 100, False)"
   ]
  },
  {
   "cell_type": "code",
   "execution_count": 446,
   "metadata": {},
   "outputs": [
    {
     "name": "stdout",
     "output_type": "stream",
     "text": [
      "Total Time Elapsed:  21.108424902\n",
      "Average RMSE:  8.25953386162\n"
     ]
    }
   ],
   "source": [
    "#Solve 3-D case with SDP with 10 sensors outside the convex hull\n",
    "SDP(3, 10, True , 100, False)"
   ]
  },
  {
   "cell_type": "code",
   "execution_count": 447,
   "metadata": {},
   "outputs": [
    {
     "name": "stdout",
     "output_type": "stream",
     "text": [
      "Total Time Elapsed:  27.4014310837\n",
      "Average RMSE:  7.26055582663\n"
     ]
    }
   ],
   "source": [
    "#Solve 3-D case with SDP with 10 sensors inside the convex hull\n",
    "SDP(3, 10, False, 100, False)"
   ]
  },
  {
   "cell_type": "markdown",
   "metadata": {},
   "source": [
    "## Unconstrained Optimization"
   ]
  },
  {
   "cell_type": "code",
   "execution_count": 422,
   "metadata": {
    "collapsed": true
   },
   "outputs": [],
   "source": [
    "# We compute the SNL objective function\n",
    "def SNL(a, x, d):\n",
    "    sum_obj = 0\n",
    "    \n",
    "    for (distance, i, j, truth) in d:\n",
    "        if truth:\n",
    "            sum_obj += ((np.linalg.norm(a[j] - x[i]) ** 2) - \\\n",
    "                        distance ** 2) ** 2\n",
    "        else:\n",
    "            sum_obj += (((np.linalg.norm(x[i] - x[j]) ** 2) - \\\n",
    "                        distance ** 2) ** 2)/2\n",
    "    \n",
    "    return sum_obj\n",
    "\n",
    "# Here, we perform the gradient of the objective function\n",
    "def dSNL(a, x, d, npoints, n):\n",
    "    sum_x = np.zeros((npoints, n))\n",
    "    \n",
    "    for (distance, i, j, truth) in d:\n",
    "        if truth:\n",
    "            sum_x[i] += 4 * (np.linalg.norm(a[j] - x[i]) ** 2 - \\\n",
    "                             distance ** 2) * (-a[j] + x[i])\n",
    "        else:\n",
    "            sum_x[i] += 4 * (np.linalg.norm(x[i] - x[j]) ** 2 - \\\n",
    "                             distance ** 2) * (x[i] - x[j])\n",
    "\n",
    "    return sum_x\n",
    "\n",
    "# Updated steepest descent where we perform it twice for the two\n",
    "# different sensors\n",
    "def steepest_descent_2(op, dop, a, xin, d, niter, npoints, n):\n",
    "    x = np.copy(xin)\n",
    "    \n",
    "    for i in range(0, niter):\n",
    "            direction = dop(a, x, d, npoints, n)\n",
    "            \n",
    "            alpha = 1.\n",
    "            \n",
    "            for j in range(npoints):\n",
    "                while(op(a, x  - alpha * direction, d) > op(a, x, d) \\\n",
    "                      - 0.5 * alpha * np.dot(direction[j], direction[j])):\n",
    "                        if alpha < 1e-9:\n",
    "                            break\n",
    "                        alpha *= 0.9\n",
    "\n",
    "            x -= alpha * direction\n",
    "    \n",
    "    return x"
   ]
  },
  {
   "cell_type": "code",
   "execution_count": 423,
   "metadata": {
    "collapsed": true
   },
   "outputs": [],
   "source": [
    "import copy\n",
    "def unconstrained(n, npoints, convex, niter, printOut):\n",
    "    #Like we did for the previous functions, we compute a running\n",
    "    #total for RMSE and start and end times\n",
    "    start = time.time()\n",
    "    totalRMSE = 0\n",
    "    \n",
    "    #Compute multiple iterations\n",
    "    for iteration in range(niter):\n",
    "        \n",
    "        #Differences between generation schemes\n",
    "        if convex:\n",
    "            (a, p, adjacency) = generate(n, npoints)\n",
    "        else:\n",
    "            (a, p, adjacency) = generate_inside_hull(n, npoints)\n",
    "\n",
    "        # Compute the Euclidian distances to the anchor points\n",
    "        adjSize = len(p) + len(a)\n",
    "        asize = len(a)\n",
    "        d = []\n",
    "\n",
    "        #Retrieve the distances\n",
    "        for i in range(adjSize):\n",
    "            for j in range(adjSize):\n",
    "                if(j > i and adjacency[i][j] > 0 and i < asize):\n",
    "                    d.append((adjacency[i][j], j - asize, i, True))\n",
    "                elif(j > i and adjacency[i][j] > 0):\n",
    "                    d.append((adjacency[i][j], i - asize, j - asize, False))\n",
    "        \n",
    "        #Randomly generate a starting point\n",
    "        x = [np.random.rand(n) for i in range(npoints)]\n",
    "        \n",
    "        #This is so that we can have both directions \n",
    "        #of the edge in the gradient\n",
    "        d2 = copy.copy(d)\n",
    "        for k in range(len(d)):\n",
    "            (distance, i, j, truth) = d[k]\n",
    "            if not truth:\n",
    "                d2.append((distance, j, i, truth))\n",
    "        \n",
    "        #Compute the steepest descent and RMSE and add to the\n",
    "        #running total\n",
    "        soln = steepest_descent_2(SNL, dSNL, a, x, d2, 40, npoints, n)\n",
    "        RMSE = 0\n",
    "        for i in range(npoints):\n",
    "            if printOut:\n",
    "                print(\"Sensor \" + str(i) + \" is located at \" + str(soln[i]) + \\\n",
    "                      \" and the actual value is \" + str(p[i]))\n",
    "            RMSE += np.linalg.norm(np.asarray(soln[i]) - np.asarray(p[i])) ** 2\n",
    "        totalRMSE += RMSE\n",
    "    \n",
    "    #Time the algorithm\n",
    "    end = time.time()\n",
    "    print \"Total time elapsed: \", end - start\n",
    "    print \"Average RMSE: \", math.sqrt(totalRMSE / niter)"
   ]
  },
  {
   "cell_type": "code",
   "execution_count": 424,
   "metadata": {},
   "outputs": [
    {
     "name": "stdout",
     "output_type": "stream",
     "text": [
      "Sensor 0 is located at [ 1.57835787  4.48574312] and the actual value is [ 1.57463426  4.51521257]\n",
      "Sensor 1 is located at [-4.06512537  2.13692847] and the actual value is [-4.08220565  2.15065139]\n",
      "Sensor 2 is located at [-2.72793189 -1.91778923] and the actual value is [-2.78045488 -1.89616651]\n",
      "Sensor 3 is located at [ 2.47030385 -3.23352364] and the actual value is [ 2.48115864 -3.23807993]\n",
      "Sensor 4 is located at [-0.75079182 -3.46403899] and the actual value is [-0.62229379 -3.30679818]\n",
      "Sensor 5 is located at [-2.7915589  -4.33753945] and the actual value is [-2.77358879 -4.33471284]\n",
      "Sensor 6 is located at [ 0.50210365 -2.89958744] and the actual value is [ 0.50004549 -2.89972821]\n",
      "Sensor 7 is located at [-1.87179258 -0.98400392] and the actual value is [-1.89172994 -0.92564308]\n",
      "Sensor 8 is located at [-1.19243939 -1.9041064 ] and the actual value is [-0.63881511 -1.90345735]\n",
      "Sensor 9 is located at [ 1.78760252  3.77857429] and the actual value is [ 1.17497876  4.27085436]\n",
      "Total time elapsed:  1.97076582909\n",
      "Average RMSE:  0.987041046042\n"
     ]
    }
   ],
   "source": [
    "unconstrained(2, 10, True, 1, True)"
   ]
  },
  {
   "cell_type": "code",
   "execution_count": 425,
   "metadata": {},
   "outputs": [
    {
     "name": "stdout",
     "output_type": "stream",
     "text": [
      "Total Time Elapsed:  6.54781889915\n",
      "Average RMSE:  0.370136491554\n"
     ]
    }
   ],
   "source": [
    "#Solve 1-D case with steepest descent with 10 sensors outside the convex hull\n",
    "SDP(1, 10, True, 100)"
   ]
  },
  {
   "cell_type": "code",
   "execution_count": 426,
   "metadata": {},
   "outputs": [
    {
     "name": "stdout",
     "output_type": "stream",
     "text": [
      "Total Time Elapsed:  9.28683900833\n",
      "Average RMSE:  0.00131113844964\n"
     ]
    }
   ],
   "source": [
    "#Solve 1-D case with steepest descent with 10 sensors inside the convex hull\n",
    "SDP(1, 10, False, 100)"
   ]
  },
  {
   "cell_type": "code",
   "execution_count": 427,
   "metadata": {},
   "outputs": [
    {
     "name": "stdout",
     "output_type": "stream",
     "text": [
      "Total Time Elapsed:  13.315559864\n",
      "Average RMSE:  0.0153179595149\n"
     ]
    }
   ],
   "source": [
    "#Solve 2-D case with steepest descent with 10 sensors outside the convex hull\n",
    "SDP(2, 10, True, 100)"
   ]
  },
  {
   "cell_type": "code",
   "execution_count": 428,
   "metadata": {},
   "outputs": [
    {
     "name": "stdout",
     "output_type": "stream",
     "text": [
      "Total Time Elapsed:  33.8117461205\n",
      "Average RMSE:  0.00616733637123\n"
     ]
    }
   ],
   "source": [
    "#Solve 2-D case with steepest descent with 10 sensors inside the convex hull\n",
    "SDP(2, 10, False, 100)"
   ]
  },
  {
   "cell_type": "code",
   "execution_count": 429,
   "metadata": {},
   "outputs": [
    {
     "name": "stdout",
     "output_type": "stream",
     "text": [
      "Total Time Elapsed:  21.8626668453\n",
      "Average RMSE:  0.842044570965\n"
     ]
    }
   ],
   "source": [
    "#Solve 3-D case with steepest descent with 10 sensors outside the convex hull\n",
    "SDP(3, 10, True, 100)"
   ]
  },
  {
   "cell_type": "code",
   "execution_count": 430,
   "metadata": {},
   "outputs": [
    {
     "name": "stdout",
     "output_type": "stream",
     "text": [
      "Total Time Elapsed:  31.5579149723\n",
      "Average RMSE:  0.372208217592\n"
     ]
    }
   ],
   "source": [
    "#Solve 3-D case with steepest descent with 10 sensors inside the convex hull\n",
    "SDP(3, 10, False, 100)"
   ]
  },
  {
   "cell_type": "code",
   "execution_count": null,
   "metadata": {
    "collapsed": true
   },
   "outputs": [],
   "source": []
  }
 ],
 "metadata": {
  "kernelspec": {
   "display_name": "Python 2",
   "language": "python",
   "name": "python2"
  },
  "language_info": {
   "codemirror_mode": {
    "name": "ipython",
    "version": 2
   },
   "file_extension": ".py",
   "mimetype": "text/x-python",
   "name": "python",
   "nbconvert_exporter": "python",
   "pygments_lexer": "ipython2",
   "version": "2.7.14"
  }
 },
 "nbformat": 4,
 "nbformat_minor": 2
}
