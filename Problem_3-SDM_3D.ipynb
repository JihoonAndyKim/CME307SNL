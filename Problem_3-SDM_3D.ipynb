{
 "cells": [
  {
   "cell_type": "code",
   "execution_count": 1,
   "metadata": {
    "collapsed": true
   },
   "outputs": [],
   "source": [
    "# Import CVX and numpy libraries\n",
    "import cvxpy as cvx\n",
    "import numpy as np\n",
    "import random\n",
    "import matplotlib.pyplot as plt\n",
    "from random import shuffle"
   ]
  },
  {
   "cell_type": "code",
   "execution_count": 2,
   "metadata": {
    "collapsed": true
   },
   "outputs": [],
   "source": [
    "def generate(n,npoints):\n",
    "    # Set the limits\n",
    "    origA = np.full((n+1,n),-5.)\n",
    "    rangA = np.full((n+1,n), 10.)\n",
    "    origP = np.full((npoints,n),-5.)\n",
    "    rangP = np.full((npoints,n), 10.)\n",
    "\n",
    "    # Construct the anchor points\n",
    "    a = np.random.rand(n+1,n)\n",
    "    a = origA + np.multiply(a,rangA)\n",
    "\n",
    "    # Construct the sensor points\n",
    "    p = np.random.rand(npoints,n)\n",
    "    p = origP + np.multiply(p,rangP)\n",
    "\n",
    "    adjacency = np.full((npoints+n+1,npoints+n+1),-1.)\n",
    "\n",
    "    if(n > 1):\n",
    "        minConstr = 3\n",
    "        maxConstr = 4\n",
    "        minPointConstr = 1\n",
    "        minAnchConstr = 2\n",
    "    else:\n",
    "        minConstr = 2\n",
    "        maxConstr = 3\n",
    "        minPointConstr = 1\n",
    "        minAnchConstr = 1\n",
    "\n",
    "    anchList = [i for i in range(n+1)]\n",
    "    pointList = [i for i in range(npoints)]\n",
    "    off = n + 1\n",
    "\n",
    "    for i in range(npoints):\n",
    "        random.shuffle(anchList)\n",
    "        random.shuffle(pointList)\n",
    "        # Set anchor constraints, between 1 and 3\n",
    "        numAnch = random.randint(minAnchConstr,minConstr)\n",
    "        for l in range(numAnch):\n",
    "            adjacency[anchList[l],i+off] = np.linalg.norm(a[anchList[l]] - p[i])\n",
    "            adjacency[i+off,anchList[l]] = adjacency[anchList[l],i+off]\n",
    "        print(numAnch)\n",
    "        # Count number of constraints already set for this point\n",
    "        countConstr = 0\n",
    "        for l in range(npoints+off):\n",
    "            if(adjacency[l,i+off] > 0):\n",
    "                countConstr = countConstr + 1\n",
    "        # Set point constraints, between 0 and 3\n",
    "        if(minConstr - countConstr >= 0):\n",
    "            numPoint = random.randint(minConstr-countConstr,3)\n",
    "            count = numPoint\n",
    "            l = 0\n",
    "            while(count > 0 and l < len(pointList)):\n",
    "                if(pointList[l] != i):\n",
    "                        countConstr = 0\n",
    "                        for k in range(npoints+off):\n",
    "                            if(adjacency[k,pointList[l]+off] > 0):\n",
    "                                countConstr = countConstr + 1\n",
    "                        if(countConstr < maxConstr):\n",
    "                            adjacency[pointList[l]+off,i+off] = np.linalg.norm(p[pointList[l]] - p[i])\n",
    "                            adjacency[i+off,pointList[l]+off] = adjacency[pointList[l]+off,i+off]\n",
    "                            count = count - 1\n",
    "                l = l + 1\n",
    "    return [a, p, adjacency]\n",
    "\n",
    "def generate_inside_hull(n,npoints):\n",
    "    # Set the limits\n",
    "    origA = np.full((n+1,n),-5.)\n",
    "    rangA = np.full((n+1,n), 10.)\n",
    "    origP = np.full((npoints,n),-5.)\n",
    "    rangP = np.full((npoints,n), 10.)\n",
    "    \n",
    "    if(n == 1):\n",
    "        a = np.array([-6, 6])\n",
    "    elif(n == 2):\n",
    "        a = np.array([[-6, 15], [-6, -15], [8, 0]])\n",
    "    elif(n == 3):\n",
    "        a = np.array([[-6, 15,-10], [-6, -15,-10], [8, 0, -10], [0, 0, 10]])\n",
    "    # Construct the sensor points\n",
    "    p = np.random.rand(npoints,n)\n",
    "    p = origP + np.multiply(p,rangP)\n",
    "\n",
    "    adjacency = np.full((npoints+n+1,npoints+n+1),-1.)\n",
    "\n",
    "    if(n > 1):\n",
    "        minConstr = 3\n",
    "        maxConstr = 4\n",
    "        minAnchConstr = 2\n",
    "    else:\n",
    "        minConstr = 2\n",
    "        maxConstr = 3\n",
    "        minAnchConstr = 1\n",
    "\n",
    "    anchList = [i for i in range(n+1)]\n",
    "    pointList = [i for i in range(npoints)]\n",
    "    off = n + 1\n",
    "\n",
    "    for i in range(npoints):\n",
    "        random.shuffle(anchList)\n",
    "        random.shuffle(pointList)\n",
    "        # Set anchor constraints, between 1 and 3\n",
    "        numAnch = random.randint(minAnchConstr,minConstr)\n",
    "        for l in range(numAnch):\n",
    "            adjacency[anchList[l],i+off] = np.linalg.norm(a[anchList[l]] - p[i])\n",
    "            adjacency[i+off,anchList[l]] = adjacency[anchList[l],i+off]\n",
    "        print(numAnch)\n",
    "        # Count number of constraints already set for this point\n",
    "        countConstr = 0\n",
    "        for l in range(npoints+off):\n",
    "            if(adjacency[l,i+off] > 0):\n",
    "                countConstr = countConstr + 1\n",
    "        # Set point constraints, between 0 and 3\n",
    "        if(minConstr - countConstr >= 0):\n",
    "            numPoint = random.randint(minConstr-countConstr,3)\n",
    "            count = numPoint\n",
    "            l = 0\n",
    "            while(count > 0 and l < len(pointList)):\n",
    "                if(pointList[l] != i):\n",
    "                        countConstr = 0\n",
    "                        for k in range(npoints+off):\n",
    "                            if(adjacency[k,pointList[l]+off] > 0):\n",
    "                                countConstr = countConstr + 1\n",
    "                        if(countConstr < maxConstr):\n",
    "                            adjacency[pointList[l]+off,i+off] = np.linalg.norm(p[pointList[l]] - p[i])\n",
    "                            adjacency[i+off,pointList[l]+off] = adjacency[pointList[l]+off,i+off]\n",
    "                            count = count - 1\n",
    "                l = l + 1\n",
    "    return [a, p, adjacency]"
   ]
  },
  {
   "cell_type": "code",
   "execution_count": 3,
   "metadata": {},
   "outputs": [
    {
     "name": "stdout",
     "output_type": "stream",
     "text": [
      "2\n",
      "2\n",
      "3\n",
      "3\n",
      "2\n",
      "3\n",
      "3\n",
      "2\n",
      "2\n",
      "3\n"
     ]
    }
   ],
   "source": [
    "n = 3\n",
    "npoints = 10\n",
    "[a,p,adjacency]=generate_inside_hull(n,npoints)"
   ]
  },
  {
   "cell_type": "code",
   "execution_count": 70,
   "metadata": {},
   "outputs": [
    {
     "name": "stdout",
     "output_type": "stream",
     "text": [
      "Populating the interactive namespace from numpy and matplotlib\n"
     ]
    },
    {
     "data": {
      "image/png": "[encoded data removed]",
      "text/plain": [
       "<matplotlib.figure.Figure at 0x1128b8c50>"
      ]
     },
     "metadata": {},
     "output_type": "display_data"
    }
   ],
   "source": [
    "import matplotlib.pyplot as plt\n",
    "import networkx as nx\n",
    "%pylab inline --no-import-all\n",
    "if(n == 2):\n",
    "    G=nx.Graph()\n",
    "\n",
    "    for i in range(n+1):\n",
    "        G.add_node(i,pos=a[i])\n",
    "\n",
    "    for i in range(npoints):\n",
    "        G.add_node(n+1+i,pos=p[i])\n",
    "\n",
    "    pos=nx.get_node_attributes(G,'pos')\n",
    "\n",
    "    nx.draw_networkx_nodes(G,pos,\n",
    "                           nodelist=[i for i in range(n+1)],\n",
    "                           node_color='r',\n",
    "                           node_size=100,\n",
    "                           alpha=0.8,\n",
    "                           with_labels=True)\n",
    "    nx.draw_networkx_nodes(G,pos,\n",
    "                           nodelist=[i for i in range(n+1,npoints+n+1)],\n",
    "                           node_color='b',\n",
    "                           node_size=100,\n",
    "                           alpha=0.8,\n",
    "                           with_labels=True)\n",
    "    for i in range(npoints+n+1):\n",
    "        for j in range(n+1,npoints+n+1):\n",
    "            if(adjacency[j,i] > 0.):\n",
    "                G.add_edge(i,j)\n",
    "\n",
    "    nx.draw_networkx_edges(G, pos)\n",
    "    nx.draw_networkx_labels(G, pos,font_color='w',font_size=8,font_weight='bold')\n",
    "    plt.draw()  # pyplot draw()"
   ]
  },
  {
   "cell_type": "code",
   "execution_count": 4,
   "metadata": {
    "collapsed": true
   },
   "outputs": [],
   "source": [
    "# Note that the summations are unrolled for the ease of coding.\n",
    "# The objective function is for the distances d11, d12, d22, d23, dhat12\n",
    "\n",
    "# We update the objective function seen with two sensors and three anchors\n",
    "def SNL(Y, x, y, anchors, adjacency, n, npoints):\n",
    "    off = n + 1\n",
    "    sum_obj = 0.\n",
    "    constr  = 0.\n",
    "    \n",
    "    for j in range(off,off+npoints):\n",
    "        x_j = x[j-off]\n",
    "        y_j = y[j-off]\n",
    "        \n",
    "        # Add the anchor constraints\n",
    "        for k in range(off):\n",
    "            if(adjacency[k,j] > 0.):\n",
    "                #d_jk\n",
    "                sum_obj += (np.dot((anchors[k]-x_j),(anchors[k]-y_j)) - adjacency[k,j]**2)**2\n",
    "                \n",
    "        # Add the point to point constraints\n",
    "        for i in range(off,off+npoints):\n",
    "            if(adjacency[i,j] > 0.):\n",
    "                #d_ij\n",
    "                x_i = x[i-off]\n",
    "                y_i = y[i-off]\n",
    "                sum_obj += (np.dot((x_i - x_j),(y_i - y_j)) - adjacency[i,j]**2)**2\n",
    "\n",
    "        # Constraints\n",
    "        constr += x_j - y_j\n",
    "        \n",
    "    # Construct the problem\n",
    "    ext_lagrangian = sum_obj - np.dot(Y,constr) + (beta / 2.) * np.linalg.norm(constr,2)**2\n",
    "\n",
    "    return ext_lagrangian\n",
    "\n",
    "# Here, we perform the gradient of the objective function\n",
    "# Note that we keep the gradients for the two different\n",
    "# sensors separate and stored in sum_x[0] and sum_x[1]\n",
    "# respectively\n",
    "def dSNLx(Y, x, y, anchors, adjacency, n, npoints):\n",
    "    off = n + 1\n",
    "    sum_obj = 0.\n",
    "    \n",
    "    grad = np.zeros((npoints, n))\n",
    "    \n",
    "    for j in range(off,off+npoints):\n",
    "        x_j = x[j-off]\n",
    "        y_j = y[j-off]\n",
    "        \n",
    "        # Add the anchor constraints\n",
    "        for k in range(off):\n",
    "            if(adjacency[k,j] > 0.):\n",
    "                #d_jk\n",
    "                grad[j-off] -= 2*(np.dot((anchors[k]-x_j),(anchors[k]-y_j)) - adjacency[k,j]**2) * (anchors[k]-y_j)\n",
    "                \n",
    "        # Add the point to point constraints\n",
    "        for i in range(off,off+npoints):\n",
    "            if(adjacency[i,j] > 0.):\n",
    "                #d_ij\n",
    "                x_i = x[i-off]\n",
    "                y_i = y[i-off]\n",
    "                grad[j-off] -= 2*(np.dot((x_i - x_j),(y_i - y_j)) - adjacency[i,j]**2) * (y_i - y_j)\n",
    "        \n",
    "        # Construct the problem\n",
    "        grad[j-off] += - Y + (beta) * (x_j-y_j)\n",
    "    \n",
    "    return grad\n",
    "\n",
    "def dSNLy(Y, x, y, anchors, adjacency, n, npoints):\n",
    "    off = n + 1\n",
    "    sum_obj = 0.\n",
    "    \n",
    "    grad = np.zeros((npoints, n))\n",
    "    \n",
    "    for j in range(off,off+npoints):\n",
    "        x_j = x[j-off]\n",
    "        y_j = y[j-off]\n",
    "        \n",
    "        # Add the anchor constraints\n",
    "        for k in range(off):\n",
    "            if(adjacency[k,j] > 0.):\n",
    "                #d_jk\n",
    "                grad[j-off] -= 2*(np.dot((anchors[k]-x_j),(anchors[k]-y_j)) - adjacency[k,j]**2) * (anchors[k]-x_j)\n",
    "                \n",
    "        # Add the point to point constraints\n",
    "        for i in range(off,off+npoints):\n",
    "            if(adjacency[i,j] > 0.):\n",
    "                #d_ij\n",
    "                x_i = x[i-off]\n",
    "                y_i = y[i-off]\n",
    "                grad[j-off] -= 2*(np.dot((x_i - x_j),(y_i - y_j)) - adjacency[i,j]**2) * (x_i - x_j)\n",
    "        \n",
    "        # Construct the problem\n",
    "        grad[j-off] += Y - (beta) * (x_j-y_j)\n",
    "    \n",
    "    return grad\n",
    "\n",
    "def updatePos(x,y,alpha, direction,gradientOp):\n",
    "    xupdate = np.copy(x)\n",
    "    yupdate = np.copy(y)\n",
    "    if(gradientOp == 'x'):\n",
    "        xupdate -= alpha * direction\n",
    "    else:\n",
    "        yupdate -= alpha * direction\n",
    "    return [xupdate,yupdate]\n",
    "            \n",
    "\n",
    "# Updated steepest descent where we perform it twice for the two\n",
    "# different sensors\n",
    "def steepest_descent(Y, xin, yin, a, adjacency, n, npoints, niter, gradientOp):\n",
    "    x = np.copy(xin)\n",
    "    y = np.copy(yin)\n",
    "    \n",
    "    for i in range(niter):\n",
    "        if(gradientOp == 'x'):\n",
    "            direction = dSNLx(Y, x, y, a, adjacency, n, npoints)\n",
    "        else:\n",
    "            direction = dSNLy(Y, x, y, a, adjacency, n, npoints)\n",
    "\n",
    "        alpha = 1.\n",
    "        for j in range(npoints):\n",
    "            [xupdate,yupdate] = updatePos(x, y, alpha, direction, gradientOp)\n",
    "\n",
    "            while(SNL(Y, xupdate, yupdate, a, adjacency, n, npoints) > SNL(Y, x, y, a, adjacency, n, npoints) \\\n",
    "                  - 0.5 * alpha * np.dot(direction[j], direction[j])):\n",
    "                    if alpha < 1e-5:\n",
    "                        break\n",
    "                    alpha *= 0.9\n",
    "                    [xupdate,yupdate] = updatePos(x, y, alpha, direction, gradientOp)\n",
    "\n",
    "        [x, y] = updatePos(x, y, alpha, direction, gradientOp)\n",
    "    \n",
    "    return [x, y]"
   ]
  },
  {
   "cell_type": "code",
   "execution_count": 14,
   "metadata": {},
   "outputs": [
    {
     "data": {
      "image/png": "[encoded data removed]",
      "text/plain": [
       "<matplotlib.figure.Figure at 0x10f3a7ef0>"
      ]
     },
     "metadata": {},
     "output_type": "display_data"
    }
   ],
   "source": [
    "beta  = 1.\n",
    "niter = 250\n",
    "\n",
    "Y = np.random.rand(n)\n",
    "\n",
    "y_points = np.random.rand(npoints,n)*5\n",
    "x_points = np.random.rand(npoints,n)*5\n",
    "\n",
    "res = np.zeros(int(niter/5))\n",
    "\n",
    "for it in range(niter):\n",
    "    [x_points, y_points] = steepest_descent(Y, x_points, y_points, a, adjacency, n, npoints, 15, 'x')\n",
    "    [x_points, y_points] = steepest_descent(Y, x_points, y_points, a, adjacency, n, npoints, 15, 'y')\n",
    "    for j in range(npoints):\n",
    "        Y -= beta*(x_points[j] - y_points[j])\n",
    "    if(it % 5 == 0):\n",
    "        res[int(it/5)] = np.dot(Y,Y)\n",
    "    if(np.dot(Y,Y) < 0.1):\n",
    "        break\n",
    "\n",
    "plt.plot(range(res.size),res)\n",
    "plt.show()"
   ]
  },
  {
   "cell_type": "code",
   "execution_count": 15,
   "metadata": {},
   "outputs": [
    {
     "data": {
      "text/plain": [
       "14.340495240327192"
      ]
     },
     "execution_count": 15,
     "metadata": {},
     "output_type": "execute_result"
    }
   ],
   "source": [
    "np.dot(Y,Y)"
   ]
  },
  {
   "cell_type": "code",
   "execution_count": 16,
   "metadata": {},
   "outputs": [
    {
     "data": {
      "text/plain": [
       "array([[-5.17838527,  2.6908181 ,  5.06986469],\n",
       "       [ 4.10975337, -2.65321313, -0.80708971],\n",
       "       [-4.95141631,  4.5909999 ,  0.72646374],\n",
       "       [-2.05399909,  0.71612282,  5.01309676],\n",
       "       [ 4.65957389, -1.38587816,  1.69108882],\n",
       "       [-1.20991093, -1.5349155 , -1.240455  ],\n",
       "       [-3.97009781, -4.21242826, -1.36607794],\n",
       "       [ 1.74582989,  2.21521138,  1.29317722],\n",
       "       [ 4.69321787, -0.91992964, -0.56536448],\n",
       "       [ 7.28201035,  0.2066212 ,  3.78678342]])"
      ]
     },
     "execution_count": 16,
     "metadata": {},
     "output_type": "execute_result"
    }
   ],
   "source": [
    "x_points"
   ]
  },
  {
   "cell_type": "code",
   "execution_count": 17,
   "metadata": {},
   "outputs": [
    {
     "data": {
      "text/plain": [
       "array([[-4.29956366,  2.04675234,  4.57380628],\n",
       "       [ 3.85232174, -2.24521833, -0.77330815],\n",
       "       [-4.37882596,  3.91978086,  0.74676225],\n",
       "       [-1.77042603,  0.56835183,  4.77739249],\n",
       "       [ 4.57936702, -0.97356185,  1.64953165],\n",
       "       [-1.25177989, -1.10661767, -0.54503813],\n",
       "       [-3.91449605, -4.29008123, -1.38697876],\n",
       "       [ 1.75849054,  2.05935265,  1.40522765],\n",
       "       [ 3.86938619, -0.73503279, -0.14140307],\n",
       "       [ 2.18353119, -3.13675395,  1.25946769]])"
      ]
     },
     "execution_count": 17,
     "metadata": {},
     "output_type": "execute_result"
    }
   ],
   "source": [
    "p"
   ]
  },
  {
   "cell_type": "code",
   "execution_count": null,
   "metadata": {
    "collapsed": true
   },
   "outputs": [],
   "source": []
  }
 ],
 "metadata": {
  "kernelspec": {
   "display_name": "Python 3",
   "language": "python",
   "name": "python3"
  },
  "language_info": {
   "codemirror_mode": {
    "name": "ipython",
    "version": 3
   },
   "file_extension": ".py",
   "mimetype": "text/x-python",
   "name": "python",
   "nbconvert_exporter": "python",
   "pygments_lexer": "ipython3",
   "version": "3.6.2"
  }
 },
 "nbformat": 4,
 "nbformat_minor": 2
}
