{
 "cells": [
  {
   "cell_type": "code",
   "execution_count": 169,
   "metadata": {
    "collapsed": true
   },
   "outputs": [],
   "source": [
    "# Import CVX and numpy libraries\n",
    "import cvxpy as cvx\n",
    "import numpy as np\n",
    "import random\n",
    "import networkx as nx\n",
    "import matplotlib.pyplot as plt"
   ]
  },
  {
   "cell_type": "markdown",
   "metadata": {},
   "source": [
    "# Problem 1"
   ]
  },
  {
   "cell_type": "markdown",
   "metadata": {},
   "source": [
    "Code to randomly generate the programming problems. The generate function randomly spawns anchor points, sensor locations as well as an adjacency matrix which enumerates which sensors are connected to which anchors/sensors"
   ]
  },
  {
   "cell_type": "code",
   "execution_count": 180,
   "metadata": {},
   "outputs": [],
   "source": [
    "def generate(n,npoints):\n",
    "    # Set the limits\n",
    "    origA = np.full((n+1,n),-5.)\n",
    "    rangA = np.full((n+1,n), 10.)\n",
    "    origP = np.full((npoints,n),-5.)\n",
    "    rangP = np.full((npoints,n), 10.)\n",
    "\n",
    "    # Construct the anchor points\n",
    "    a = np.random.rand(n+1,n)\n",
    "    a = origA + np.multiply(a,rangA)\n",
    "\n",
    "    # Construct the sensor points\n",
    "    p = np.random.rand(npoints,n)\n",
    "    p = origP + np.multiply(p,rangP)\n",
    "\n",
    "    adjacency = np.full((npoints+n+1,npoints+n+1),-1.)\n",
    "\n",
    "    if(n > 1):\n",
    "        minConstr = 3\n",
    "        maxConstr = 4\n",
    "        minPointConstr = 2\n",
    "        minAnchConstr = 2\n",
    "    else:\n",
    "        minConstr = 2\n",
    "        maxConstr = 3\n",
    "        minPointConstr = 1\n",
    "        minAnchConstr = 1\n",
    "\n",
    "    anchList = [i for i in range(n+1)]\n",
    "    pointList = [i for i in range(npoints)]\n",
    "    off = n + 1\n",
    "\n",
    "    for i in range(npoints):\n",
    "        random.shuffle(anchList)\n",
    "        random.shuffle(pointList)\n",
    "        # Set anchor constraints, between 1 and 3\n",
    "        numAnch = random.randint(minAnchConstr,minConstr)\n",
    "        for l in range(numAnch):\n",
    "            adjacency[anchList[l],i+off] = np.linalg.norm(a[anchList[l]] - p[i])\n",
    "            adjacency[i+off,anchList[l]] = adjacency[anchList[l],i+off]\n",
    "        #print(numAnch)\n",
    "        # Count number of constraints already set for this point\n",
    "        countConstr = 0\n",
    "        for l in range(npoints+off):\n",
    "            if(adjacency[l,i+off] > 0):\n",
    "                countConstr = countConstr + 1\n",
    "        # Set point constraints, between 0 and 3\n",
    "        if(minConstr - countConstr >= 0):\n",
    "            numPoint = random.randint(minConstr-countConstr,3)\n",
    "            count = numPoint\n",
    "            l = 0\n",
    "            while(count > 0 and l < len(pointList)):\n",
    "                if(pointList[l] != i):\n",
    "                        countConstr = 0\n",
    "                        for k in range(npoints+off):\n",
    "                            if(adjacency[k,pointList[l]+off] > 0):\n",
    "                                countConstr = countConstr + 1\n",
    "                        if(countConstr < maxConstr):\n",
    "                            adjacency[pointList[l]+off,i+off] = np.linalg.norm(p[pointList[l]] - p[i])\n",
    "                            adjacency[i+off,pointList[l]+off] = adjacency[pointList[l]+off,i+off]\n",
    "                            count = count - 1\n",
    "                l = l + 1\n",
    "    return [a, p, adjacency]"
   ]
  },
  {
   "cell_type": "markdown",
   "metadata": {},
   "source": [
    "The following code forces the sensors to be located within the convex hull of the anchors."
   ]
  },
  {
   "cell_type": "code",
   "execution_count": 233,
   "metadata": {
    "collapsed": true
   },
   "outputs": [],
   "source": [
    "def generate_inside_hull(n,npoints):\n",
    "    # Set the limits\n",
    "    origA = np.full((n+1,n),-5.)\n",
    "    rangA = np.full((n+1,n), 10.)\n",
    "    origP = np.full((npoints,n),-5.)\n",
    "    rangP = np.full((npoints,n), 10.)\n",
    "    \n",
    "    if(n == 1):\n",
    "        a = np.array([-6., 6.])\n",
    "    elif(n == 2):\n",
    "        a = np.array([[-6., 15.], [-6., -15.], [8., 0.]])\n",
    "    elif(n == 3):\n",
    "        a = np.array([[-6., 15.,-10.], [-6., -15.,-10.], [8., 0., -10.], [0., 0., 10.]])\n",
    "    # Construct the sensor points\n",
    "    p = np.random.rand(npoints,n)\n",
    "    p = origP + np.multiply(p,rangP)\n",
    "\n",
    "    adjacency = np.full((npoints+n+1,npoints+n+1),-1.)\n",
    "\n",
    "    if(n > 1):\n",
    "        minConstr = 3\n",
    "        maxConstr = 4\n",
    "        minPointConstr = 2\n",
    "        minAnchConstr = 2\n",
    "    else:\n",
    "        minConstr = 2\n",
    "        maxConstr = 3\n",
    "        minPointConstr = 1\n",
    "        minAnchConstr = 1\n",
    "\n",
    "    anchList = [i for i in range(n+1)]\n",
    "    pointList = [i for i in range(npoints)]\n",
    "    off = n + 1\n",
    "\n",
    "    for i in range(npoints):\n",
    "        random.shuffle(anchList)\n",
    "        random.shuffle(pointList)\n",
    "        # Set anchor constraints, between 1 and 3\n",
    "        numAnch = random.randint(minAnchConstr,minConstr)\n",
    "        for l in range(numAnch):\n",
    "            adjacency[anchList[l],i+off] = np.linalg.norm(a[anchList[l]] - p[i])\n",
    "            adjacency[i+off,anchList[l]] = adjacency[anchList[l],i+off]\n",
    "        #print(numAnch)\n",
    "        # Count number of constraints already set for this point\n",
    "        countConstr = 0\n",
    "        for l in range(npoints+off):\n",
    "            if(adjacency[l,i+off] > 0):\n",
    "                countConstr = countConstr + 1\n",
    "        # Set point constraints, between 0 and 3\n",
    "        if(minConstr - countConstr >= 0):\n",
    "            numPoint = random.randint(minConstr-countConstr,3)\n",
    "            count = numPoint\n",
    "            l = 0\n",
    "            while(count > 0 and l < len(pointList)):\n",
    "                if(pointList[l] != i):\n",
    "                        countConstr = 0\n",
    "                        for k in range(npoints+off):\n",
    "                            if(adjacency[k,pointList[l]+off] > 0):\n",
    "                                countConstr = countConstr + 1\n",
    "                        if(countConstr < maxConstr):\n",
    "                            adjacency[pointList[l]+off,i+off] = np.linalg.norm(p[pointList[l]] - p[i])\n",
    "                            adjacency[i+off,pointList[l]+off] = adjacency[pointList[l]+off,i+off]\n",
    "                            count = count - 1\n",
    "                l = l + 1\n",
    "    return [a, p, adjacency]"
   ]
  },
  {
   "cell_type": "markdown",
   "metadata": {},
   "source": [
    "## SOCP"
   ]
  },
  {
   "cell_type": "markdown",
   "metadata": {},
   "source": [
    "Solve the SOCP problem with n dimensions and npoints sensors"
   ]
  },
  {
   "cell_type": "code",
   "execution_count": 259,
   "metadata": {},
   "outputs": [],
   "source": [
    "def SOCP(n, npoints, convex, niters, printOut = False):\n",
    "    #Generate the anchors, sensor locations and the corresponding adjacency matrix\n",
    "    totalMSE = 0\n",
    "    for k in range(niters):\n",
    "        while True:\n",
    "            try:\n",
    "                if convex:\n",
    "                    (a, p, adjacency) = generate(n, npoints)\n",
    "                else:\n",
    "                    (a, p, adjacency) = generate_inside_hull(n, npoints)\n",
    "\n",
    "                # Compute the Euclidian distances to the anchor points\n",
    "                adjSize = len(p) + len(a)\n",
    "                asize = len(a)\n",
    "                d = []\n",
    "\n",
    "                #Retrieve the distances\n",
    "                for i in range(adjSize):\n",
    "                    for j in range(adjSize):\n",
    "                        if(j > i and adjacency[i][j] > 0 and i < asize):\n",
    "                            d.append((adjacency[i][j], j - asize, i, True))\n",
    "                        elif(j > i and adjacency[i][j] > 0):\n",
    "                            d.append((adjacency[i][j], i - asize, j - asize, False))\n",
    "\n",
    "                # Construct the CVX variables to minimize\n",
    "                x = [cvx.Variable(n) for i in range(len(p))]\n",
    "\n",
    "                states = []\n",
    "                constr = []\n",
    "\n",
    "                #Construct the obj fcn as well as the constraints\n",
    "                cost = cvx.norm(0)\n",
    "                for (distance, i, j, truth) in d:\n",
    "                    if(truth):\n",
    "                        constr.append(cvx.norm(x[i] - a[j], 2) ** 2 <= distance ** 2)\n",
    "                    else:\n",
    "                        constr.append(cvx.norm(x[i] - x[j], 2) ** 2 <= distance ** 2)\n",
    "\n",
    "                states.append(cvx.Problem(cvx.Minimize(cost), constr))\n",
    "\n",
    "                # Add the states and solve the problem    \n",
    "                prob = sum(states)\n",
    "                prob.solve()\n",
    "                \n",
    "                if printOut:\n",
    "                    print \"Anchor points: \", a\n",
    "                    \n",
    "                MSE = 0\n",
    "                if(n == 1): #Solves it more or less\n",
    "                    for i, elem in enumerate(x):\n",
    "                        soln1 = elem.value\n",
    "                        point1 = p[i]\n",
    "                        if printOut:\n",
    "                            print(\"Sensor \" + str(i) + \" is at \" + str(soln1) + \" and the actual value is \" + str(point1))\n",
    "                        MSE += np.linalg.norm(soln1 - point1)\n",
    "                elif(n == 2): #Can't solve this)\n",
    "                    for i, elem in enumerate(x):\n",
    "                        soln1 = elem.value.A.flatten()\n",
    "                        soln1 = ['%.4f' % elem for elem in soln1]\n",
    "                        soln1 = [float(elem) for elem in soln1]\n",
    "                        point1 = ['%.4f' % elem for elem in p[i]]\n",
    "                        point1 = [float(elem) for elem in point1]\n",
    "                        if printOut:\n",
    "                            print(\"Sensor \" + str(i) + \" is at \" + str(soln1) + \" and the actual value is \" + str(point1))\n",
    "                        MSE += np.linalg.norm(np.asarray(soln1) - np.asarray(point1))\n",
    "                else:\n",
    "                    for i, elem in enumerate(x):\n",
    "                        soln1 = elem.value.A.flatten()\n",
    "                        soln1 = ['%.4f' % elem for elem in soln1]\n",
    "                        soln1 = [float(elem) for elem in soln1]\n",
    "                        point1 = ['%.4f' % elem for elem in p[i]]\n",
    "                        point1 = [float(elem) for elem in point1]\n",
    "                        if printOut:\n",
    "                            print(\"Sensor \" + str(i) + \" is at \" + str(soln1) + \" and the actual value is \" + str(point1))\n",
    "                        MSE += np.linalg.norm(np.asarray(soln1) - np.asarray(point1))\n",
    "            except:\n",
    "                continue\n",
    "            break\n",
    "    \n",
    "        totalMSE += MSE\n",
    "        if(n == 2 and printOut):\n",
    "            G=nx.Graph()\n",
    "\n",
    "            for i in range(n+1):\n",
    "                G.add_node(i,pos=a[i])\n",
    "\n",
    "            for i in range(npoints):\n",
    "                G.add_node(n+1+i,pos=p[i])\n",
    "\n",
    "            pos=nx.get_node_attributes(G,'pos')\n",
    "\n",
    "            nx.draw_networkx_nodes(G,pos,\n",
    "                                   nodelist=[i for i in range(n+1)],\n",
    "                                   node_color='r',\n",
    "                                   node_size=100,\n",
    "                                   alpha=0.8,\n",
    "                                   with_labels=True)\n",
    "            nx.draw_networkx_nodes(G,pos,\n",
    "                                   nodelist=[i for i in range(n+1,npoints+n+1)],\n",
    "                                   node_color='b',\n",
    "                                   node_size=100,\n",
    "                                   alpha=0.8,\n",
    "                                   with_labels=True)\n",
    "            for i in range(npoints+n+1):\n",
    "                for j in range(n+1,npoints+n+1):\n",
    "                    if(adjacency[j,i] > 0.):\n",
    "                        G.add_edge(i,j)\n",
    "\n",
    "            nx.draw_networkx_edges(G, pos)\n",
    "            nx.draw_networkx_labels(G, pos,font_color='w',font_size=8,font_weight='bold')\n",
    "            plt.draw()  # pyplot draw()\n",
    "        \n",
    "    print \"Average Mean Squared Error: \", totalMSE/niters"
   ]
  },
  {
   "cell_type": "code",
   "execution_count": 263,
   "metadata": {},
   "outputs": [
    {
     "name": "stdout",
     "output_type": "stream",
     "text": [
      "Anchor points:  [[ -6.  15.]\n",
      " [ -6. -15.]\n",
      " [  8.   0.]]\n",
      "Sensor 0 is at [1.9086, -3.9435] and the actual value is [1.9086, -3.9435]\n",
      "Sensor 1 is at [-2.1934, 3.8522] and the actual value is [-2.1934, 3.8522]\n",
      "Sensor 2 is at [2.4398, 1.4045] and the actual value is [0.9104, 0.2217]\n",
      "Sensor 3 is at [-3.7778, 1.2858] and the actual value is [-3.7778, 1.2858]\n",
      "Sensor 4 is at [3.5373, -0.9787] and the actual value is [3.5373, -0.9787]\n",
      "Sensor 5 is at [1.2341, -4.0889] and the actual value is [1.2341, -4.0889]\n",
      "Sensor 6 is at [-0.7264, -3.5165] and the actual value is [-0.7264, -3.5165]\n",
      "Sensor 7 is at [-0.476, 1.8734] and the actual value is [0.1194, 4.3085]\n",
      "Sensor 8 is at [-4.9399, 3.7128] and the actual value is [-4.9399, 3.7128]\n",
      "Sensor 9 is at [3.2777, -3.151] and the actual value is [3.2777, -3.151]\n",
      "Average Mean Squared Error:  4.44024483961\n"
     ]
    },
    {
     "data": {
      "image/png": "[encoded data removed]",
      "text/plain": [
       "<matplotlib.figure.Figure at 0x7f4afe643190>"
      ]
     },
     "metadata": {},
     "output_type": "display_data"
    }
   ],
   "source": [
    "#Solve 2-D with 10 sensors inside the convex hull\n",
    "SOCP(2, 10, False, 1, True)"
   ]
  },
  {
   "cell_type": "code",
   "execution_count": 256,
   "metadata": {},
   "outputs": [
    {
     "name": "stdout",
     "output_type": "stream",
     "text": [
      "Average Mean Squared Error:  21.487840689\n"
     ]
    }
   ],
   "source": [
    "#Solve 1-D with 10 sensors randomly generated\n",
    "SOCP(1, 10, True, 100)"
   ]
  },
  {
   "cell_type": "code",
   "execution_count": 219,
   "metadata": {},
   "outputs": [
    {
     "name": "stdout",
     "output_type": "stream",
     "text": [
      "Average Mean Squared Error:  5.63551647986\n"
     ]
    }
   ],
   "source": [
    "#Solve 1-D with 10 sensors inside the convex hull\n",
    "SOCP(1, 10, False, 100)"
   ]
  },
  {
   "cell_type": "code",
   "execution_count": 238,
   "metadata": {},
   "outputs": [
    {
     "name": "stdout",
     "output_type": "stream",
     "text": [
      "Average Mean Squared Error:  34.4124995743\n"
     ]
    }
   ],
   "source": [
    "#Solve 2-D with 10 sensors outside the convex hull\n",
    "SOCP(2, 10, True, 100)"
   ]
  },
  {
   "cell_type": "code",
   "execution_count": 264,
   "metadata": {},
   "outputs": [
    {
     "name": "stdout",
     "output_type": "stream",
     "text": [
      "Average Mean Squared Error:  11.5797159131\n"
     ]
    }
   ],
   "source": [
    "#Solve 2-D with 10 sensors inside the convex hull\n",
    "SOCP(2, 10, False, 100)"
   ]
  },
  {
   "cell_type": "code",
   "execution_count": 265,
   "metadata": {},
   "outputs": [
    {
     "name": "stdout",
     "output_type": "stream",
     "text": [
      "Average Mean Squared Error:  45.7712716678\n"
     ]
    }
   ],
   "source": [
    "#Solve 3-D with 10 sensors outside the convex hull\n",
    "SOCP(3, 10, True, 100)"
   ]
  },
  {
   "cell_type": "code",
   "execution_count": 266,
   "metadata": {},
   "outputs": [
    {
     "name": "stdout",
     "output_type": "stream",
     "text": [
      "Average Mean Squared Error:  39.241795095\n"
     ]
    }
   ],
   "source": [
    "#Solve 3-D with 10 sensors inside the convex hull\n",
    "SOCP(3, 10, False, 100)"
   ]
  },
  {
   "cell_type": "markdown",
   "metadata": {},
   "source": [
    "## SDP"
   ]
  },
  {
   "cell_type": "code",
   "execution_count": 272,
   "metadata": {},
   "outputs": [],
   "source": [
    "def SDP(n, npoints, convex, niter, printOut = False):\n",
    "    totalMSE = 0\n",
    "    for iteration in range(niter):\n",
    "        if convex:\n",
    "            (a, p, adjacency) = generate(n, npoints)\n",
    "        else:\n",
    "            (a, p, adjacency) = generate_inside_hull(n, npoints)\n",
    "\n",
    "        # Compute the Euclidian distances to the anchor points\n",
    "        adjSize = len(p) + len(a)\n",
    "        asize = len(a)\n",
    "        d = []\n",
    "\n",
    "        #Retrieve the distances\n",
    "        for i in range(adjSize):\n",
    "            for j in range(adjSize):\n",
    "                if(j > i and adjacency[i][j] > 0 and i < asize):\n",
    "                    d.append((adjacency[i][j], j - asize, i, True))\n",
    "                elif(j > i and adjacency[i][j] > 0):\n",
    "                    d.append((adjacency[i][j], i - asize, j - asize, False))\n",
    "\n",
    "        T = n + npoints\n",
    "\n",
    "        # We are working in R^2\n",
    "\n",
    "        #This creates a 3x3 semipositive definite matrix which we will \n",
    "        #use as part of our constraints\n",
    "        z = cvx.Semidef(T)\n",
    "\n",
    "        eyeConstraint = []\n",
    "        anchorConstraints = []\n",
    "        pointConstraints = []\n",
    "\n",
    "        for i in range(n):\n",
    "            temp = np.zeros((T,T))\n",
    "            temp[i][i] = 1\n",
    "            eyeConstraint.append(temp)\n",
    "\n",
    "        temp = np.zeros((T,T))\n",
    "        for i in range(n):\n",
    "            for j in range(n):\n",
    "                temp[i][j] = 1\n",
    "        eyeConstraint.append(temp)\n",
    "\n",
    "        for (distance, i, j, truth) in d:\n",
    "            if truth:\n",
    "                temp = np.zeros(npoints)\n",
    "                temp[i] = -1.\n",
    "                anchorConstraints.append((np.outer(np.append(a[j], temp), np.append(a[j], temp)), distance))\n",
    "            else:\n",
    "                tempi = np.zeros(npoints)\n",
    "                tempj = np.zeros(npoints)\n",
    "                tempi[i] = 1.\n",
    "                tempj[j] = 1.\n",
    "                temp = tempi - tempj\n",
    "                corner = np.zeros(n)\n",
    "                temp = np.append(corner, temp)\n",
    "                pointConstraints.append((np.outer(temp,temp), distance))\n",
    "\n",
    "        #Another empty states list\n",
    "        states = []\n",
    "\n",
    "        cost = cvx.norm(0)\n",
    "\n",
    "        #The four constraints in the SDP relaxation problem\n",
    "        #Note that the last constraint forces z to be SPD\n",
    "        constr = []\n",
    "\n",
    "        for i, mat in enumerate(eyeConstraint):\n",
    "            if i < len(eyeConstraint) - 1:\n",
    "                constr.append(cvx.sum_entries(cvx.mul_elemwise(mat, z)) == 1)\n",
    "            else:\n",
    "                constr.append(cvx.sum_entries(cvx.mul_elemwise(mat, z)) == n)\n",
    "\n",
    "        for mat in anchorConstraints:\n",
    "            constr.append(cvx.sum_entries(cvx.mul_elemwise(mat[0], z)) ==  mat[1] ** 2)\n",
    "\n",
    "        for mat in pointConstraints:\n",
    "            constr.append(cvx.sum_entries(cvx.mul_elemwise(mat[0], z)) ==  mat[1] ** 2)\n",
    "\n",
    "        constr.append(z >> 0)\n",
    "\n",
    "        #Add the constraints and cost function\n",
    "        states.append(cvx.Problem(cvx.Minimize(cost), constr))\n",
    "\n",
    "        #Solve the SDP relaxation problem\n",
    "        prob = sum(states)\n",
    "        prob.solve();    \n",
    "    \n",
    "        MSE = 0\n",
    "        for i in range(npoints):\n",
    "            soln1 = z.value.A[0:n, i + n]\n",
    "            point1 = p[i]\n",
    "            if printOut:\n",
    "                print(\"Sensor \" + str(i) + \" is located at \" + str(soln1) + \" and the actual value is \" + str(point1))\n",
    "            MSE += np.linalg.norm(np.asarray(soln1) - np.asarray(point1))\n",
    "    \n",
    "    totalMSE += MSE\n",
    "    \n",
    "    print \"Average MSE: \", totalMSE / niter"
   ]
  },
  {
   "cell_type": "code",
   "execution_count": 273,
   "metadata": {},
   "outputs": [
    {
     "name": "stdout",
     "output_type": "stream",
     "text": [
      "Sensor 0 is located at [ 3.25509284 -0.26444447] and the actual value is [ 3.32138809 -0.47632316]\n",
      "Sensor 1 is located at [-2.02078416  1.91881137] and the actual value is [-1.96399354  1.75122984]\n",
      "Sensor 2 is located at [-3.06601674 -2.75182865] and the actual value is [-3.04625447 -2.90318264]\n",
      "Sensor 3 is located at [ 0.40110708  1.87162496] and the actual value is [ 0.44866473  1.71001517]\n",
      "Sensor 4 is located at [-3.0062092   3.41961073] and the actual value is [-2.96689915  3.2264451 ]\n",
      "Sensor 5 is located at [ 3.76866992 -2.60891526] and the actual value is [ 3.8415688  -2.70548969]\n",
      "Sensor 6 is located at [ 3.34519707 -1.82877565] and the actual value is [ 3.37748049 -1.93651421]\n",
      "Sensor 7 is located at [-0.92668682 -1.72139949] and the actual value is [-0.88854049 -2.02918332]\n",
      "Sensor 8 is located at [-0.13517114 -4.26892194] and the actual value is [-0.06062198 -4.28438901]\n",
      "Sensor 9 is located at [ 3.35033897  4.41326433] and the actual value is [ 3.40466304  4.4483335 ]\n",
      "Average MSE:  1.60158326938\n"
     ]
    }
   ],
   "source": [
    "SDP(2, 10, True, 1, True)"
   ]
  },
  {
   "cell_type": "code",
   "execution_count": 276,
   "metadata": {},
   "outputs": [
    {
     "name": "stdout",
     "output_type": "stream",
     "text": [
      "Average MSE:  0.000578113207312\n"
     ]
    }
   ],
   "source": [
    "#Solve 1-D case with SDP with 10 sensors outside the convex hull\n",
    "SDP(1, 10, True, 100, False)"
   ]
  },
  {
   "cell_type": "code",
   "execution_count": 277,
   "metadata": {},
   "outputs": [
    {
     "name": "stdout",
     "output_type": "stream",
     "text": [
      "Average MSE:  0.000232324758748\n"
     ]
    }
   ],
   "source": [
    "#Solve 1-D case with SDP with 10 sensors inside the convex hull\n",
    "SDP(1, 10, False, 100, False)"
   ]
  },
  {
   "cell_type": "code",
   "execution_count": 278,
   "metadata": {},
   "outputs": [
    {
     "name": "stdout",
     "output_type": "stream",
     "text": [
      "Average MSE:  0.000486351126895\n"
     ]
    }
   ],
   "source": [
    "#Solve 2-D case with SDP with 10 sensors outside the convex hull\n",
    "SDP(2, 10, True, 100, False)"
   ]
  },
  {
   "cell_type": "code",
   "execution_count": 279,
   "metadata": {},
   "outputs": [
    {
     "name": "stdout",
     "output_type": "stream",
     "text": [
      "Average MSE:  0.00127396659069\n"
     ]
    }
   ],
   "source": [
    "#Solve 2-D case with SDP with 10 sensors inside the convex hull\n",
    "SDP(2, 10, False, 100, False)"
   ]
  },
  {
   "cell_type": "code",
   "execution_count": 280,
   "metadata": {},
   "outputs": [
    {
     "name": "stdout",
     "output_type": "stream",
     "text": [
      "Average MSE:  0.125906175648\n"
     ]
    }
   ],
   "source": [
    "#Solve 3-D case with SDP with 10 sensors outside the convex hull\n",
    "SDP(3, 10, True , 100, False)"
   ]
  },
  {
   "cell_type": "code",
   "execution_count": 281,
   "metadata": {},
   "outputs": [
    {
     "name": "stdout",
     "output_type": "stream",
     "text": [
      "Average MSE:  0.0928766609074\n"
     ]
    }
   ],
   "source": [
    "#Solve 3-D case with SDP with 10 sensors inside the convex hull\n",
    "SDP(3, 10, False, 100, False)"
   ]
  },
  {
   "cell_type": "markdown",
   "metadata": {},
   "source": [
    "## Unconstrained Optimization"
   ]
  },
  {
   "cell_type": "code",
   "execution_count": 167,
   "metadata": {
    "collapsed": true
   },
   "outputs": [],
   "source": [
    "# Note that the summations are unrolled for the ease of coding.\n",
    "# The objective function is for the distances d11, d12, d22, d23, dhat12\n",
    "\n",
    "# We update the objective function seen with two sensors and three anchors\n",
    "def SNL(a, x, d):\n",
    "    sum_obj = 0\n",
    "    \n",
    "    for (distance, i, j, truth) in d:\n",
    "        if truth:\n",
    "            sum_obj += ((np.linalg.norm(a[j] - x[i]) ** 2) - distance ** 2) ** 2\n",
    "        else:\n",
    "            sum_obj += (((np.linalg.norm(x[i] - x[j]) ** 2) - distance ** 2) ** 2)/2\n",
    "    \n",
    "    return sum_obj\n",
    "\n",
    "# Here, we perform the gradient of the objective function\n",
    "# Note that we keep the gradients for the two different\n",
    "# sensors separate and stored in sum_x[0] and sum_x[1]\n",
    "# respectively\n",
    "def dSNL(a, x, d, npoints, n):\n",
    "    sum_x = np.zeros((npoints, n))\n",
    "    \n",
    "    for (distance, i, j, truth) in d:\n",
    "        if truth:\n",
    "            sum_x[i] += 4 * (np.linalg.norm(a[j] - x[i]) ** 2 - distance ** 2) * (-a[j] + x[i])\n",
    "        else:\n",
    "            sum_x[i] += 4 * (np.linalg.norm(x[i] - x[j]) ** 2 - distance ** 2) * (x[i] - x[j])\n",
    "\n",
    "    return sum_x\n",
    "\n",
    "# Updated steepest descent where we perform it twice for the two\n",
    "# different sensors\n",
    "def steepest_descent_2(op, dop, a, xin, d, niter, npoints, n):\n",
    "    x = np.copy(xin)\n",
    "    \n",
    "    for i in range(0, niter):\n",
    "            direction = dop(a, x, d, npoints, n)\n",
    "            \n",
    "            alpha = 1.\n",
    "            \n",
    "            for j in range(npoints):\n",
    "                while(op(a, x  - alpha * direction, d) > op(a, x, d) \\\n",
    "                      - 0.5 * alpha * np.dot(direction[j], direction[j])):\n",
    "                        if alpha < 1e-9:\n",
    "                            break\n",
    "                        alpha *= 0.9\n",
    "\n",
    "            x -= alpha * direction\n",
    "    \n",
    "    return x"
   ]
  },
  {
   "cell_type": "code",
   "execution_count": 285,
   "metadata": {},
   "outputs": [],
   "source": [
    "import copy\n",
    "def unconstrained(n, npoints, convex, niter, printOut):\n",
    "    totalMSE = 0\n",
    "    for iteration in range(niter):\n",
    "        if convex:\n",
    "            (a, p, adjacency) = generate(n, npoints)\n",
    "        else:\n",
    "            (a, p, adjacency) = generate_inside_hull(n, npoints)\n",
    "\n",
    "        # Compute the Euclidian distances to the anchor points\n",
    "        adjSize = len(p) + len(a)\n",
    "        asize = len(a)\n",
    "        d = []\n",
    "\n",
    "        #Retrieve the distances\n",
    "        for i in range(adjSize):\n",
    "            for j in range(adjSize):\n",
    "                if(j > i and adjacency[i][j] > 0 and i < asize):\n",
    "                    d.append((adjacency[i][j], j - asize, i, True))\n",
    "                elif(j > i and adjacency[i][j] > 0):\n",
    "                    d.append((adjacency[i][j], i - asize, j - asize, False))\n",
    "\n",
    "        x = [np.random.rand(n) for i in range(npoints)]\n",
    "\n",
    "        d2 = copy.copy(d)\n",
    "\n",
    "        for k in range(len(d)):\n",
    "            (distance, i, j, truth) = d[k]\n",
    "\n",
    "            if not truth:\n",
    "                d2.append((distance, j, i, truth))\n",
    "\n",
    "        soln = steepest_descent_2(SNL, dSNL, a, x, d2, 40, npoints, n)\n",
    "        MSE = 0\n",
    "        for i in range(npoints):\n",
    "            if printOut:\n",
    "                print(\"Sensor \" + str(i) + \" is located at \" + str(soln[i]) + \" and the actual value is \" + str(p[i]))\n",
    "            MSE += np.linalg.norm(np.asarray(soln[i]) - np.asarray(p[i]))\n",
    "        totalMSE += MSE\n",
    "    \n",
    "    print \"Average MSE: \", totalMSE / niter"
   ]
  },
  {
   "cell_type": "code",
   "execution_count": 286,
   "metadata": {},
   "outputs": [
    {
     "name": "stdout",
     "output_type": "stream",
     "text": [
      "Sensor 0 is located at [-0.86812581  0.48407901] and the actual value is [-0.6857945  0.8084817]\n",
      "Sensor 1 is located at [ 4.59278541 -1.70966744] and the actual value is [ 4.19080435 -2.41776976]\n",
      "Sensor 2 is located at [-0.34701685  1.2598273 ] and the actual value is [-1.21676043 -0.0891005 ]\n",
      "Sensor 3 is located at [-2.228097   -2.25051941] and the actual value is [ 0.71758964  3.38632808]\n",
      "Sensor 4 is located at [ 0.48986389 -0.16950122] and the actual value is [ 0.32975014 -0.48928193]\n",
      "Sensor 5 is located at [ 3.38572788 -3.54716483] and the actual value is [ 4.4659257  -2.07277988]\n",
      "Sensor 6 is located at [ 0.54167122  3.70104951] and the actual value is [-3.36625585 -1.6605377 ]\n",
      "Sensor 7 is located at [ 2.21414707  3.69819823] and the actual value is [-2.82593312 -3.23353678]\n",
      "Sensor 8 is located at [ 4.86885904 -2.13103611] and the actual value is [ 4.96001561 -2.03486102]\n",
      "Sensor 9 is located at [-1.278204    1.30435318] and the actual value is [-1.14144351  1.43928436]\n",
      "Average MSE:  26.8665274774\n"
     ]
    }
   ],
   "source": [
    "unconstrained(2, 10, True, 1, True)"
   ]
  },
  {
   "cell_type": "code",
   "execution_count": 288,
   "metadata": {},
   "outputs": [
    {
     "name": "stdout",
     "output_type": "stream",
     "text": [
      "Average MSE:  0.00105617407482\n"
     ]
    }
   ],
   "source": [
    "#Solve 1-D case with steepest descent with 10 sensors outside the convex hull\n",
    "SDP(1, 10, True, 100)"
   ]
  },
  {
   "cell_type": "code",
   "execution_count": 289,
   "metadata": {},
   "outputs": [
    {
     "name": "stdout",
     "output_type": "stream",
     "text": [
      "Average MSE:  0.000370272918319\n"
     ]
    }
   ],
   "source": [
    "#Solve 1-D case with steepest descent with 10 sensors inside the convex hull\n",
    "SDP(1, 10, False, 100)"
   ]
  },
  {
   "cell_type": "code",
   "execution_count": 290,
   "metadata": {},
   "outputs": [
    {
     "name": "stdout",
     "output_type": "stream",
     "text": [
      "Average MSE:  0.00026724813785\n"
     ]
    }
   ],
   "source": [
    "#Solve 2-D case with steepest descent with 10 sensors outside the convex hull\n",
    "SDP(2, 10, True, 100)"
   ]
  },
  {
   "cell_type": "code",
   "execution_count": 291,
   "metadata": {},
   "outputs": [
    {
     "name": "stdout",
     "output_type": "stream",
     "text": [
      "Average MSE:  0.00236719315038\n"
     ]
    }
   ],
   "source": [
    "#Solve 2-D case with steepest descent with 10 sensors inside the convex hull\n",
    "SDP(2, 10, False, 100)"
   ]
  },
  {
   "cell_type": "code",
   "execution_count": 292,
   "metadata": {},
   "outputs": [
    {
     "name": "stdout",
     "output_type": "stream",
     "text": [
      "Average MSE:  0.16111153046\n"
     ]
    }
   ],
   "source": [
    "#Solve 3-D case with steepest descent with 10 sensors outside the convex hull\n",
    "SDP(3, 10, True, 100)"
   ]
  },
  {
   "cell_type": "code",
   "execution_count": 294,
   "metadata": {},
   "outputs": [
    {
     "name": "stdout",
     "output_type": "stream",
     "text": [
      "Average MSE:  0.165120322822\n"
     ]
    }
   ],
   "source": [
    "#Solve 3-D case with steepest descent with 10 sensors inside the convex hull\n",
    "SDP(3, 10, False, 100)"
   ]
  }
 ],
 "metadata": {
  "kernelspec": {
   "display_name": "Python 2",
   "language": "python",
   "name": "python2"
  },
  "language_info": {
   "codemirror_mode": {
    "name": "ipython",
    "version": 2
   },
   "file_extension": ".py",
   "mimetype": "text/x-python",
   "name": "python",
   "nbconvert_exporter": "python",
   "pygments_lexer": "ipython2",
   "version": "2.7.14"
  }
 },
 "nbformat": 4,
 "nbformat_minor": 2
}
