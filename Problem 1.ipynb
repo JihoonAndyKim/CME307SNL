{
 "cells": [
  {
   "cell_type": "code",
   "execution_count": 399,
   "metadata": {
    "collapsed": true
   },
   "outputs": [],
   "source": [
    "# Import CVX and numpy libraries\n",
    "import cvxpy as cvx\n",
    "import numpy as np\n",
    "import random\n",
    "import time\n",
    "import math\n",
    "import networkx as nx\n",
    "import matplotlib.pyplot as plt"
   ]
  },
  {
   "cell_type": "markdown",
   "metadata": {},
   "source": [
    "# Problem 1"
   ]
  },
  {
   "cell_type": "markdown",
   "metadata": {},
   "source": [
    "Code to randomly generate the programming problems. The generate function randomly spawns anchor points, sensor locations as well as an adjacency matrix which enumerates which sensors are connected to which anchors/sensors"
   ]
  },
  {
   "cell_type": "code",
   "execution_count": 400,
   "metadata": {
    "collapsed": true
   },
   "outputs": [],
   "source": [
    "def generate(n,npoints):\n",
    "    # Set the limits\n",
    "    origA = np.full((n+1,n),-5.)\n",
    "    rangA = np.full((n+1,n), 10.)\n",
    "    origP = np.full((npoints,n),-5.)\n",
    "    rangP = np.full((npoints,n), 10.)\n",
    "\n",
    "    # Construct the anchor points\n",
    "    a = np.random.rand(n+1,n)\n",
    "    a = origA + np.multiply(a,rangA)\n",
    "\n",
    "    # Construct the sensor points\n",
    "    p = np.random.rand(npoints,n)\n",
    "    p = origP + np.multiply(p,rangP)\n",
    "\n",
    "    adjacency = np.full((npoints+n+1,npoints+n+1),-1.)\n",
    "\n",
    "    if(n > 1):\n",
    "        minConstr = 3\n",
    "        maxConstr = 4\n",
    "        minPointConstr = 2\n",
    "        minAnchConstr = 2\n",
    "    else:\n",
    "        minConstr = 2\n",
    "        maxConstr = 3\n",
    "        minPointConstr = 1\n",
    "        minAnchConstr = 1\n",
    "\n",
    "    anchList = [i for i in range(n+1)]\n",
    "    pointList = [i for i in range(npoints)]\n",
    "    off = n + 1\n",
    "\n",
    "    for i in range(npoints):\n",
    "        random.shuffle(anchList)\n",
    "        random.shuffle(pointList)\n",
    "        # Set anchor constraints, between 1 and 3\n",
    "        numAnch = random.randint(minAnchConstr,minConstr)\n",
    "        for l in range(numAnch):\n",
    "            adjacency[anchList[l],i+off] = np.linalg.norm(a[anchList[l]] - p[i])\n",
    "            adjacency[i+off,anchList[l]] = adjacency[anchList[l],i+off]\n",
    "        #print(numAnch)\n",
    "        # Count number of constraints already set for this point\n",
    "        countConstr = 0\n",
    "        for l in range(npoints+off):\n",
    "            if(adjacency[l,i+off] > 0):\n",
    "                countConstr = countConstr + 1\n",
    "        # Set point constraints, between 0 and 3\n",
    "        if(minConstr - countConstr >= 0):\n",
    "            numPoint = random.randint(minConstr-countConstr,3)\n",
    "            count = numPoint\n",
    "            l = 0\n",
    "            while(count > 0 and l < len(pointList)):\n",
    "                if(pointList[l] != i):\n",
    "                        countConstr = 0\n",
    "                        for k in range(npoints+off):\n",
    "                            if(adjacency[k,pointList[l]+off] > 0):\n",
    "                                countConstr = countConstr + 1\n",
    "                        if(countConstr < maxConstr):\n",
    "                            adjacency[pointList[l]+off,i+off] = np.linalg.norm(p[pointList[l]] - p[i])\n",
    "                            adjacency[i+off,pointList[l]+off] = adjacency[pointList[l]+off,i+off]\n",
    "                            count = count - 1\n",
    "                l = l + 1\n",
    "    return [a, p, adjacency]"
   ]
  },
  {
   "cell_type": "markdown",
   "metadata": {},
   "source": [
    "The following code forces the sensors to be located within the convex hull of the anchors."
   ]
  },
  {
   "cell_type": "code",
   "execution_count": 401,
   "metadata": {
    "collapsed": true
   },
   "outputs": [],
   "source": [
    "def generate_inside_hull(n,npoints):\n",
    "    # Set the limits\n",
    "    origA = np.full((n+1,n),-5.)\n",
    "    rangA = np.full((n+1,n), 10.)\n",
    "    origP = np.full((npoints,n),-5.)\n",
    "    rangP = np.full((npoints,n), 10.)\n",
    "    \n",
    "    if(n == 1):\n",
    "        a = np.array([-6., 6.])\n",
    "    elif(n == 2):\n",
    "        a = np.array([[-6., 15.], [-6., -15.], [8., 0.]])\n",
    "    elif(n == 3):\n",
    "        a = np.array([[-6., 15.,-10.], [-6., -15.,-10.], [8., 0., -10.], [0., 0., 10.]])\n",
    "    # Construct the sensor points\n",
    "    p = np.random.rand(npoints,n)\n",
    "    p = origP + np.multiply(p,rangP)\n",
    "\n",
    "    adjacency = np.full((npoints+n+1,npoints+n+1),-1.)\n",
    "\n",
    "    if(n > 1):\n",
    "        minConstr = 3\n",
    "        maxConstr = 4\n",
    "        minPointConstr = 2\n",
    "        minAnchConstr = 2\n",
    "    else:\n",
    "        minConstr = 2\n",
    "        maxConstr = 3\n",
    "        minPointConstr = 1\n",
    "        minAnchConstr = 1\n",
    "\n",
    "    anchList = [i for i in range(n+1)]\n",
    "    pointList = [i for i in range(npoints)]\n",
    "    off = n + 1\n",
    "\n",
    "    for i in range(npoints):\n",
    "        random.shuffle(anchList)\n",
    "        random.shuffle(pointList)\n",
    "        # Set anchor constraints, between 1 and 3\n",
    "        numAnch = random.randint(minAnchConstr,minConstr)\n",
    "        for l in range(numAnch):\n",
    "            adjacency[anchList[l],i+off] = np.linalg.norm(a[anchList[l]] - p[i])\n",
    "            adjacency[i+off,anchList[l]] = adjacency[anchList[l],i+off]\n",
    "        #print(numAnch)\n",
    "        # Count number of constraints already set for this point\n",
    "        countConstr = 0\n",
    "        for l in range(npoints+off):\n",
    "            if(adjacency[l,i+off] > 0):\n",
    "                countConstr = countConstr + 1\n",
    "        # Set point constraints, between 0 and 3\n",
    "        if(minConstr - countConstr >= 0):\n",
    "            numPoint = random.randint(minConstr-countConstr,3)\n",
    "            count = numPoint\n",
    "            l = 0\n",
    "            while(count > 0 and l < len(pointList)):\n",
    "                if(pointList[l] != i):\n",
    "                        countConstr = 0\n",
    "                        for k in range(npoints+off):\n",
    "                            if(adjacency[k,pointList[l]+off] > 0):\n",
    "                                countConstr = countConstr + 1\n",
    "                        if(countConstr < maxConstr):\n",
    "                            adjacency[pointList[l]+off,i+off] = np.linalg.norm(p[pointList[l]] - p[i])\n",
    "                            adjacency[i+off,pointList[l]+off] = adjacency[pointList[l]+off,i+off]\n",
    "                            count = count - 1\n",
    "                l = l + 1\n",
    "    return [a, p, adjacency]"
   ]
  },
  {
   "cell_type": "markdown",
   "metadata": {},
   "source": [
    "## SOCP"
   ]
  },
  {
   "cell_type": "markdown",
   "metadata": {},
   "source": [
    "Solve the SOCP problem with n dimensions and npoints sensors"
   ]
  },
  {
   "cell_type": "code",
   "execution_count": 405,
   "metadata": {},
   "outputs": [],
   "source": [
    "def SOCP(n, npoints, convex, niters, printOut = False, timing = True):\n",
    "    #Generate the anchors, sensor locations and the corresponding adjacency matrix\n",
    "    totalRMSE = 0\n",
    "    start = time.time()\n",
    "    for k in range(niters):\n",
    "        while True:\n",
    "            try:\n",
    "                if convex:\n",
    "                    (a, p, adjacency) = generate(n, npoints)\n",
    "                else:\n",
    "                    (a, p, adjacency) = generate_inside_hull(n, npoints)\n",
    "\n",
    "                # Compute the Euclidian distances to the anchor points\n",
    "                adjSize = len(p) + len(a)\n",
    "                asize = len(a)\n",
    "                d = []\n",
    "\n",
    "                #Retrieve the distances\n",
    "                for i in range(adjSize):\n",
    "                    for j in range(adjSize):\n",
    "                        if(j > i and adjacency[i][j] > 0 and i < asize):\n",
    "                            d.append((adjacency[i][j], j - asize, i, True))\n",
    "                        elif(j > i and adjacency[i][j] > 0):\n",
    "                            d.append((adjacency[i][j], i - asize, j - asize, False))\n",
    "\n",
    "                # Construct the CVX variables to minimize\n",
    "                x = [cvx.Variable(n) for i in range(len(p))]\n",
    "\n",
    "                states = []\n",
    "                constr = []\n",
    "\n",
    "                #Construct the obj fcn as well as the constraints\n",
    "                cost = cvx.norm(0)\n",
    "                for (distance, i, j, truth) in d:\n",
    "                    if(truth):\n",
    "                        constr.append(cvx.norm(x[i] - a[j], 2) ** 2 <= distance ** 2)\n",
    "                    else:\n",
    "                        constr.append(cvx.norm(x[i] - x[j], 2) ** 2 <= distance ** 2)\n",
    "\n",
    "                states.append(cvx.Problem(cvx.Minimize(cost), constr))\n",
    "\n",
    "                # Add the states and solve the problem    \n",
    "                prob = sum(states)\n",
    "                prob.solve()\n",
    "                \n",
    "                if printOut:\n",
    "                    print \"Anchor points: \", a\n",
    "                    \n",
    "                RMSE = 0\n",
    "                if(n == 1): #Solves it more or less\n",
    "                    for i, elem in enumerate(x):\n",
    "                        soln1 = elem.value\n",
    "                        point1 = p[i]\n",
    "                        if printOut:\n",
    "                            print(\"Sensor \" + str(i) + \" is at \" + str(soln1) + \" and the actual value is \" + str(point1))\n",
    "                        RMSE += np.linalg.norm(soln1 - point1) ** 2\n",
    "                elif(n == 2): #Can't solve this)\n",
    "                    for i, elem in enumerate(x):\n",
    "                        soln1 = elem.value.A.flatten()\n",
    "                        soln1 = ['%.4f' % elem for elem in soln1]\n",
    "                        soln1 = [float(elem) for elem in soln1]\n",
    "                        point1 = ['%.4f' % elem for elem in p[i]]\n",
    "                        point1 = [float(elem) for elem in point1]\n",
    "                        if printOut:\n",
    "                            print(\"Sensor \" + str(i) + \" is at \" + str(soln1) + \" and the actual value is \" + str(point1))\n",
    "                        RMSE += np.linalg.norm(np.asarray(soln1) - np.asarray(point1)) ** 2\n",
    "                else:\n",
    "                    for i, elem in enumerate(x):\n",
    "                        soln1 = elem.value.A.flatten()\n",
    "                        soln1 = ['%.4f' % elem for elem in soln1]\n",
    "                        soln1 = [float(elem) for elem in soln1]\n",
    "                        point1 = ['%.4f' % elem for elem in p[i]]\n",
    "                        point1 = [float(elem) for elem in point1]\n",
    "                        if printOut:\n",
    "                            print(\"Sensor \" + str(i) + \" is at \" + str(soln1) + \" and the actual value is \" + str(point1))\n",
    "                        RMSE += np.linalg.norm(np.asarray(soln1) - np.asarray(point1)) ** 2\n",
    "            except:\n",
    "                continue\n",
    "            break\n",
    "    \n",
    "        totalRMSE += RMSE\n",
    "        \n",
    "        end = time.time()\n",
    "        if(n == 2 and printOut):\n",
    "            G=nx.Graph()\n",
    "\n",
    "            for i in range(n+1):\n",
    "                G.add_node(i,pos=a[i])\n",
    "\n",
    "            for i in range(npoints):\n",
    "                G.add_node(n+1+i,pos=p[i])\n",
    "\n",
    "            pos=nx.get_node_attributes(G,'pos')\n",
    "\n",
    "            nx.draw_networkx_nodes(G,pos,\n",
    "                                   nodelist=[i for i in range(n+1)],\n",
    "                                   node_color='r',\n",
    "                                   node_size=100,\n",
    "                                   alpha=0.8,\n",
    "                                   with_labels=True)\n",
    "            nx.draw_networkx_nodes(G,pos,\n",
    "                                   nodelist=[i for i in range(n+1,npoints+n+1)],\n",
    "                                   node_color='b',\n",
    "                                   node_size=100,\n",
    "                                   alpha=0.8,\n",
    "                                   with_labels=True)\n",
    "            for i in range(npoints+n+1):\n",
    "                for j in range(n+1,npoints+n+1):\n",
    "                    if(adjacency[j,i] > 0.):\n",
    "                        G.add_edge(i,j)\n",
    "\n",
    "            nx.draw_networkx_edges(G, pos)\n",
    "            nx.draw_networkx_labels(G, pos,font_color='w',font_size=8,font_weight='bold')\n",
    "            plt.draw()  # pyplot draw()\n",
    "            \n",
    "    if timing:\n",
    "        print \"Total time elapsed(sec): \", end - start\n",
    "    print \"Average Root Mean Squared Error: \", math.sqrt(totalRMSE/niters)"
   ]
  },
  {
   "cell_type": "code",
   "execution_count": 406,
   "metadata": {},
   "outputs": [
    {
     "name": "stdout",
     "output_type": "stream",
     "text": [
      "Anchor points:  [[-3.37159979  0.45506746]\n",
      " [ 0.75319662  2.52610846]\n",
      " [ 2.65298862  2.99230892]]\n",
      "Sensor 0 is at [0.2615, 2.1079] and the actual value is [3.2022, -3.7281]\n",
      "Sensor 1 is at [-1.4062, 1.3637] and the actual value is [-1.9012, 2.1977]\n",
      "Sensor 2 is at [1.3375, 2.4623] and the actual value is [3.5845, 0.9367]\n",
      "Sensor 3 is at [-1.8815, 1.1393] and the actual value is [-2.9923, 2.3902]\n",
      "Sensor 4 is at [0.8811, 2.3201] and the actual value is [4.4744, -3.02]\n",
      "Sensor 5 is at [-2.3039, 0.9441] and the actual value is [-4.0468, 1.9724]\n",
      "Sensor 6 is at [1.0157, 2.3594] and the actual value is [4.504, -1.5511]\n",
      "Sensor 7 is at [0.9934, 2.3675] and the actual value is [4.4452, -3.9444]\n",
      "Sensor 8 is at [1.1749, 2.4036] and the actual value is [4.7054, 0.2332]\n",
      "Sensor 9 is at [1.2107, 2.3997] and the actual value is [2.1503, 1.0385]\n",
      "Total time elapsed(sec):  0.154807806015\n",
      "Average Root Mean Squared Error:  14.088005235\n"
     ]
    },
    {
     "data": {
      "image/png": "[encoded data removed]",
      "text/plain": [
       "<matplotlib.figure.Figure at 0x7f4affab6b10>"
      ]
     },
     "metadata": {},
     "output_type": "display_data"
    }
   ],
   "source": [
    "#Solve 2-D with 10 sensors outside the convex hull\n",
    "SOCP(2, 10, True, 1, True)"
   ]
  },
  {
   "cell_type": "code",
   "execution_count": 407,
   "metadata": {},
   "outputs": [
    {
     "name": "stdout",
     "output_type": "stream",
     "text": [
      "Anchor points:  [[ -6.  15.]\n",
      " [ -6. -15.]\n",
      " [  8.   0.]]\n",
      "Sensor 0 is at [3.4504, 4.7177] and the actual value is [3.4505, 4.7178]\n",
      "Sensor 1 is at [-3.2187, 3.9301] and the actual value is [-1.137, 4.3267]\n",
      "Sensor 2 is at [-3.9177, 3.5643] and the actual value is [-3.9177, 3.5643]\n",
      "Sensor 3 is at [4.3217, 1.841] and the actual value is [4.3217, 1.841]\n",
      "Sensor 4 is at [2.8746, 1.5629] and the actual value is [2.8746, 1.5629]\n",
      "Sensor 5 is at [0.6261, -1.593] and the actual value is [1.9492, -2.2667]\n",
      "Sensor 6 is at [0.4349, -3.2459] and the actual value is [2.806, -4.6094]\n",
      "Sensor 7 is at [0.0618, 0.2883] and the actual value is [0.0618, 0.2883]\n",
      "Sensor 8 is at [-2.1504, -4.4019] and the actual value is [-2.1504, -4.4019]\n",
      "Sensor 9 is at [4.6062, 3.6363] and the actual value is [1.0624, -1.2807]\n",
      "Total time elapsed(sec):  0.356856822968\n",
      "Average Root Mean Squared Error:  7.13525659455\n"
     ]
    },
    {
     "data": {
      "image/png": "[encoded data removed]",
      "text/plain": [
       "<matplotlib.figure.Figure at 0x7f4afe427b50>"
      ]
     },
     "metadata": {},
     "output_type": "display_data"
    }
   ],
   "source": [
    "#Solve 2-D with 10 sensors inside the convex hull\n",
    "SOCP(2, 10, False, 1, True)"
   ]
  },
  {
   "cell_type": "code",
   "execution_count": 408,
   "metadata": {},
   "outputs": [
    {
     "name": "stdout",
     "output_type": "stream",
     "text": [
      "Total time elapsed(sec):  8.29544711113\n",
      "Average Root Mean Squared Error:  9.42692399813\n"
     ]
    }
   ],
   "source": [
    "#Solve 1-D with 10 sensors randomly generated\n",
    "SOCP(1, 10, True, 100)"
   ]
  },
  {
   "cell_type": "code",
   "execution_count": 409,
   "metadata": {},
   "outputs": [
    {
     "name": "stdout",
     "output_type": "stream",
     "text": [
      "Total time elapsed(sec):  9.96485209465\n",
      "Average Root Mean Squared Error:  5.81985405852\n"
     ]
    }
   ],
   "source": [
    "#Solve 1-D with 10 sensors inside the convex hull\n",
    "SOCP(1, 10, False, 100)"
   ]
  },
  {
   "cell_type": "code",
   "execution_count": 410,
   "metadata": {},
   "outputs": [
    {
     "name": "stdout",
     "output_type": "stream",
     "text": [
      "Total time elapsed(sec):  11.263933897\n",
      "Average Root Mean Squared Error:  12.2941148022\n"
     ]
    }
   ],
   "source": [
    "#Solve 2-D with 10 sensors outside the convex hull\n",
    "SOCP(2, 10, True, 100)"
   ]
  },
  {
   "cell_type": "code",
   "execution_count": 411,
   "metadata": {},
   "outputs": [
    {
     "name": "stdout",
     "output_type": "stream",
     "text": [
      "Total time elapsed(sec):  24.3332779408\n",
      "Average Root Mean Squared Error:  7.04751513325\n"
     ]
    }
   ],
   "source": [
    "#Solve 2-D with 10 sensors inside the convex hull\n",
    "SOCP(2, 10, False, 100)"
   ]
  },
  {
   "cell_type": "code",
   "execution_count": 412,
   "metadata": {},
   "outputs": [
    {
     "name": "stdout",
     "output_type": "stream",
     "text": [
      "Total time elapsed(sec):  9.46475696564\n",
      "Average Root Mean Squared Error:  15.7684826823\n"
     ]
    }
   ],
   "source": [
    "#Solve 3-D with 10 sensors outside the convex hull\n",
    "SOCP(3, 10, True, 100)"
   ]
  },
  {
   "cell_type": "code",
   "execution_count": 413,
   "metadata": {},
   "outputs": [
    {
     "name": "stdout",
     "output_type": "stream",
     "text": [
      "Total time elapsed(sec):  10.029624939\n",
      "Average Root Mean Squared Error:  15.0895796464\n"
     ]
    }
   ],
   "source": [
    "#Solve 3-D with 10 sensors inside the convex hull\n",
    "SOCP(3, 10, False, 100)"
   ]
  },
  {
   "cell_type": "markdown",
   "metadata": {},
   "source": [
    "## SDP"
   ]
  },
  {
   "cell_type": "code",
   "execution_count": 414,
   "metadata": {
    "collapsed": true
   },
   "outputs": [],
   "source": [
    "def SDP(n, npoints, convex, niter, printOut = False):\n",
    "    start = time.time()\n",
    "    totalRMSE = 0\n",
    "    for iteration in range(niter):\n",
    "        if convex:\n",
    "            (a, p, adjacency) = generate(n, npoints)\n",
    "        else:\n",
    "            (a, p, adjacency) = generate_inside_hull(n, npoints)\n",
    "\n",
    "        # Compute the Euclidian distances to the anchor points\n",
    "        adjSize = len(p) + len(a)\n",
    "        asize = len(a)\n",
    "        d = []\n",
    "\n",
    "        #Retrieve the distances\n",
    "        for i in range(adjSize):\n",
    "            for j in range(adjSize):\n",
    "                if(j > i and adjacency[i][j] > 0 and i < asize):\n",
    "                    d.append((adjacency[i][j], j - asize, i, True))\n",
    "                elif(j > i and adjacency[i][j] > 0):\n",
    "                    d.append((adjacency[i][j], i - asize, j - asize, False))\n",
    "\n",
    "        T = n + npoints\n",
    "\n",
    "        # We are working in R^2\n",
    "\n",
    "        #This creates a 3x3 semipositive definite matrix which we will \n",
    "        #use as part of our constraints\n",
    "        z = cvx.Semidef(T)\n",
    "\n",
    "        eyeConstraint = []\n",
    "        anchorConstraints = []\n",
    "        pointConstraints = []\n",
    "\n",
    "        for i in range(n):\n",
    "            temp = np.zeros((T,T))\n",
    "            temp[i][i] = 1\n",
    "            eyeConstraint.append(temp)\n",
    "\n",
    "        temp = np.zeros((T,T))\n",
    "        for i in range(n):\n",
    "            for j in range(n):\n",
    "                temp[i][j] = 1\n",
    "        eyeConstraint.append(temp)\n",
    "\n",
    "        for (distance, i, j, truth) in d:\n",
    "            if truth:\n",
    "                temp = np.zeros(npoints)\n",
    "                temp[i] = -1.\n",
    "                anchorConstraints.append((np.outer(np.append(a[j], temp), np.append(a[j], temp)), distance))\n",
    "            else:\n",
    "                tempi = np.zeros(npoints)\n",
    "                tempj = np.zeros(npoints)\n",
    "                tempi[i] = 1.\n",
    "                tempj[j] = 1.\n",
    "                temp = tempi - tempj\n",
    "                corner = np.zeros(n)\n",
    "                temp = np.append(corner, temp)\n",
    "                pointConstraints.append((np.outer(temp,temp), distance))\n",
    "\n",
    "        #Another empty states list\n",
    "        states = []\n",
    "\n",
    "        cost = cvx.norm(0)\n",
    "\n",
    "        #The four constraints in the SDP relaxation problem\n",
    "        #Note that the last constraint forces z to be SPD\n",
    "        constr = []\n",
    "\n",
    "        for i, mat in enumerate(eyeConstraint):\n",
    "            if i < len(eyeConstraint) - 1:\n",
    "                constr.append(cvx.sum_entries(cvx.mul_elemwise(mat, z)) == 1)\n",
    "            else:\n",
    "                constr.append(cvx.sum_entries(cvx.mul_elemwise(mat, z)) == n)\n",
    "\n",
    "        for mat in anchorConstraints:\n",
    "            constr.append(cvx.sum_entries(cvx.mul_elemwise(mat[0], z)) ==  mat[1] ** 2)\n",
    "\n",
    "        for mat in pointConstraints:\n",
    "            constr.append(cvx.sum_entries(cvx.mul_elemwise(mat[0], z)) ==  mat[1] ** 2)\n",
    "\n",
    "        constr.append(z >> 0)\n",
    "\n",
    "        #Add the constraints and cost function\n",
    "        states.append(cvx.Problem(cvx.Minimize(cost), constr))\n",
    "\n",
    "        #Solve the SDP relaxation problem\n",
    "        prob = sum(states)\n",
    "        prob.solve();    \n",
    "    \n",
    "        RMSE = 0\n",
    "        for i in range(npoints):\n",
    "            soln1 = z.value.A[0:n, i + n]\n",
    "            point1 = p[i]\n",
    "            if printOut:\n",
    "                print(\"Sensor \" + str(i) + \" is located at \" + str(soln1) + \" and the actual value is \" + str(point1))\n",
    "            RMSE += np.linalg.norm(np.asarray(soln1) - np.asarray(point1)) ** 2\n",
    "    \n",
    "    totalRMSE += RMSE\n",
    "    end = time.time()\n",
    "    print \"Total Time Elapsed: \", end - start\n",
    "    print \"Average RMSE: \", math.sqrt(totalRMSE / niter)"
   ]
  },
  {
   "cell_type": "code",
   "execution_count": 415,
   "metadata": {},
   "outputs": [
    {
     "name": "stdout",
     "output_type": "stream",
     "text": [
      "Sensor 0 is located at [ 2.60183324 -1.52723278] and the actual value is [ 3.12677165 -1.02036914]\n",
      "Sensor 1 is located at [ 4.01217891 -2.54100548] and the actual value is [ 4.92048762 -1.6388582 ]\n",
      "Sensor 2 is located at [-0.25417881  2.91698575] and the actual value is [-0.26848899  2.92040864]\n",
      "Sensor 3 is located at [-4.24802974  0.06350305] and the actual value is [-4.29013235  0.04822609]\n",
      "Sensor 4 is located at [ 2.2379841  -1.82537448] and the actual value is [ 2.28211097 -1.76027554]\n",
      "Sensor 5 is located at [-3.08443109  3.079777  ] and the actual value is [-3.09321805  3.08471545]\n",
      "Sensor 6 is located at [ 2.41771089  4.9431743 ] and the actual value is [ 2.39123224  4.9347858 ]\n",
      "Sensor 7 is located at [ 0.6260222  -4.43872769] and the actual value is [ 0.66344206 -4.47830271]\n",
      "Sensor 8 is located at [ 2.72116559  1.35877923] and the actual value is [ 1.43189768  2.32021695]\n",
      "Sensor 9 is located at [-0.58600058 -0.18755463] and the actual value is [-0.60648842 -0.18397399]\n",
      "Total Time Elapsed:  0.301931858063\n",
      "Average RMSE:  2.18417476295\n"
     ]
    }
   ],
   "source": [
    "SDP(2, 10, True, 1, True)"
   ]
  },
  {
   "cell_type": "code",
   "execution_count": 416,
   "metadata": {},
   "outputs": [
    {
     "name": "stdout",
     "output_type": "stream",
     "text": [
      "Total Time Elapsed:  9.29977798462\n",
      "Average RMSE:  0.181446787146\n"
     ]
    }
   ],
   "source": [
    "#Solve 1-D case with SDP with 10 sensors outside the convex hull\n",
    "SDP(1, 10, True, 100, False)"
   ]
  },
  {
   "cell_type": "code",
   "execution_count": 417,
   "metadata": {},
   "outputs": [
    {
     "name": "stdout",
     "output_type": "stream",
     "text": [
      "Total Time Elapsed:  10.9166190624\n",
      "Average RMSE:  0.00143507882466\n"
     ]
    }
   ],
   "source": [
    "#Solve 1-D case with SDP with 10 sensors inside the convex hull\n",
    "SDP(1, 10, False, 100, False)"
   ]
  },
  {
   "cell_type": "code",
   "execution_count": 418,
   "metadata": {},
   "outputs": [
    {
     "name": "stdout",
     "output_type": "stream",
     "text": [
      "Total Time Elapsed:  15.8361301422\n",
      "Average RMSE:  0.061899460107\n"
     ]
    }
   ],
   "source": [
    "#Solve 2-D case with SDP with 10 sensors outside the convex hull\n",
    "SDP(2, 10, True, 100, False)"
   ]
  },
  {
   "cell_type": "code",
   "execution_count": 419,
   "metadata": {},
   "outputs": [
    {
     "name": "stdout",
     "output_type": "stream",
     "text": [
      "Total Time Elapsed:  34.5125718117\n",
      "Average RMSE:  0.0101581084169\n"
     ]
    }
   ],
   "source": [
    "#Solve 2-D case with SDP with 10 sensors inside the convex hull\n",
    "SDP(2, 10, False, 100, False)"
   ]
  },
  {
   "cell_type": "code",
   "execution_count": 420,
   "metadata": {},
   "outputs": [
    {
     "name": "stdout",
     "output_type": "stream",
     "text": [
      "Total Time Elapsed:  21.5549440384\n",
      "Average RMSE:  1.08872296859\n"
     ]
    }
   ],
   "source": [
    "#Solve 3-D case with SDP with 10 sensors outside the convex hull\n",
    "SDP(3, 10, True , 100, False)"
   ]
  },
  {
   "cell_type": "code",
   "execution_count": 421,
   "metadata": {},
   "outputs": [
    {
     "name": "stdout",
     "output_type": "stream",
     "text": [
      "Total Time Elapsed:  33.7564148903\n",
      "Average RMSE:  1.02207095077\n"
     ]
    }
   ],
   "source": [
    "#Solve 3-D case with SDP with 10 sensors inside the convex hull\n",
    "SDP(3, 10, False, 100, False)"
   ]
  },
  {
   "cell_type": "markdown",
   "metadata": {},
   "source": [
    "## Unconstrained Optimization"
   ]
  },
  {
   "cell_type": "code",
   "execution_count": 422,
   "metadata": {
    "collapsed": true
   },
   "outputs": [],
   "source": [
    "# Note that the summations are unrolled for the ease of coding.\n",
    "# The objective function is for the distances d11, d12, d22, d23, dhat12\n",
    "\n",
    "# We update the objective function seen with two sensors and three anchors\n",
    "def SNL(a, x, d):\n",
    "    sum_obj = 0\n",
    "    \n",
    "    for (distance, i, j, truth) in d:\n",
    "        if truth:\n",
    "            sum_obj += ((np.linalg.norm(a[j] - x[i]) ** 2) - distance ** 2) ** 2\n",
    "        else:\n",
    "            sum_obj += (((np.linalg.norm(x[i] - x[j]) ** 2) - distance ** 2) ** 2)/2\n",
    "    \n",
    "    return sum_obj\n",
    "\n",
    "# Here, we perform the gradient of the objective function\n",
    "# Note that we keep the gradients for the two different\n",
    "# sensors separate and stored in sum_x[0] and sum_x[1]\n",
    "# respectively\n",
    "def dSNL(a, x, d, npoints, n):\n",
    "    sum_x = np.zeros((npoints, n))\n",
    "    \n",
    "    for (distance, i, j, truth) in d:\n",
    "        if truth:\n",
    "            sum_x[i] += 4 * (np.linalg.norm(a[j] - x[i]) ** 2 - distance ** 2) * (-a[j] + x[i])\n",
    "        else:\n",
    "            sum_x[i] += 4 * (np.linalg.norm(x[i] - x[j]) ** 2 - distance ** 2) * (x[i] - x[j])\n",
    "\n",
    "    return sum_x\n",
    "\n",
    "# Updated steepest descent where we perform it twice for the two\n",
    "# different sensors\n",
    "def steepest_descent_2(op, dop, a, xin, d, niter, npoints, n):\n",
    "    x = np.copy(xin)\n",
    "    \n",
    "    for i in range(0, niter):\n",
    "            direction = dop(a, x, d, npoints, n)\n",
    "            \n",
    "            alpha = 1.\n",
    "            \n",
    "            for j in range(npoints):\n",
    "                while(op(a, x  - alpha * direction, d) > op(a, x, d) \\\n",
    "                      - 0.5 * alpha * np.dot(direction[j], direction[j])):\n",
    "                        if alpha < 1e-9:\n",
    "                            break\n",
    "                        alpha *= 0.9\n",
    "\n",
    "            x -= alpha * direction\n",
    "    \n",
    "    return x"
   ]
  },
  {
   "cell_type": "code",
   "execution_count": 423,
   "metadata": {
    "collapsed": true
   },
   "outputs": [],
   "source": [
    "import copy\n",
    "def unconstrained(n, npoints, convex, niter, printOut):\n",
    "    start = time.time()\n",
    "    totalRMSE = 0\n",
    "    for iteration in range(niter):\n",
    "        if convex:\n",
    "            (a, p, adjacency) = generate(n, npoints)\n",
    "        else:\n",
    "            (a, p, adjacency) = generate_inside_hull(n, npoints)\n",
    "\n",
    "        # Compute the Euclidian distances to the anchor points\n",
    "        adjSize = len(p) + len(a)\n",
    "        asize = len(a)\n",
    "        d = []\n",
    "\n",
    "        #Retrieve the distances\n",
    "        for i in range(adjSize):\n",
    "            for j in range(adjSize):\n",
    "                if(j > i and adjacency[i][j] > 0 and i < asize):\n",
    "                    d.append((adjacency[i][j], j - asize, i, True))\n",
    "                elif(j > i and adjacency[i][j] > 0):\n",
    "                    d.append((adjacency[i][j], i - asize, j - asize, False))\n",
    "\n",
    "        x = [np.random.rand(n) for i in range(npoints)]\n",
    "\n",
    "        d2 = copy.copy(d)\n",
    "\n",
    "        for k in range(len(d)):\n",
    "            (distance, i, j, truth) = d[k]\n",
    "\n",
    "            if not truth:\n",
    "                d2.append((distance, j, i, truth))\n",
    "\n",
    "        soln = steepest_descent_2(SNL, dSNL, a, x, d2, 40, npoints, n)\n",
    "        RMSE = 0\n",
    "        for i in range(npoints):\n",
    "            if printOut:\n",
    "                print(\"Sensor \" + str(i) + \" is located at \" + str(soln[i]) + \" and the actual value is \" + str(p[i]))\n",
    "            RMSE += np.linalg.norm(np.asarray(soln[i]) - np.asarray(p[i])) ** 2\n",
    "        totalRMSE += RMSE\n",
    "    end = time.time()\n",
    "    print \"Total time elapsed: \", end - start\n",
    "    print \"Average RMSE: \", math.sqrt(totalRMSE / niter)"
   ]
  },
  {
   "cell_type": "code",
   "execution_count": 424,
   "metadata": {},
   "outputs": [
    {
     "name": "stdout",
     "output_type": "stream",
     "text": [
      "Sensor 0 is located at [ 1.57835787  4.48574312] and the actual value is [ 1.57463426  4.51521257]\n",
      "Sensor 1 is located at [-4.06512537  2.13692847] and the actual value is [-4.08220565  2.15065139]\n",
      "Sensor 2 is located at [-2.72793189 -1.91778923] and the actual value is [-2.78045488 -1.89616651]\n",
      "Sensor 3 is located at [ 2.47030385 -3.23352364] and the actual value is [ 2.48115864 -3.23807993]\n",
      "Sensor 4 is located at [-0.75079182 -3.46403899] and the actual value is [-0.62229379 -3.30679818]\n",
      "Sensor 5 is located at [-2.7915589  -4.33753945] and the actual value is [-2.77358879 -4.33471284]\n",
      "Sensor 6 is located at [ 0.50210365 -2.89958744] and the actual value is [ 0.50004549 -2.89972821]\n",
      "Sensor 7 is located at [-1.87179258 -0.98400392] and the actual value is [-1.89172994 -0.92564308]\n",
      "Sensor 8 is located at [-1.19243939 -1.9041064 ] and the actual value is [-0.63881511 -1.90345735]\n",
      "Sensor 9 is located at [ 1.78760252  3.77857429] and the actual value is [ 1.17497876  4.27085436]\n",
      "Total time elapsed:  1.97076582909\n",
      "Average RMSE:  0.987041046042\n"
     ]
    }
   ],
   "source": [
    "unconstrained(2, 10, True, 1, True)"
   ]
  },
  {
   "cell_type": "code",
   "execution_count": 425,
   "metadata": {},
   "outputs": [
    {
     "name": "stdout",
     "output_type": "stream",
     "text": [
      "Total Time Elapsed:  6.54781889915\n",
      "Average RMSE:  0.370136491554\n"
     ]
    }
   ],
   "source": [
    "#Solve 1-D case with steepest descent with 10 sensors outside the convex hull\n",
    "SDP(1, 10, True, 100)"
   ]
  },
  {
   "cell_type": "code",
   "execution_count": 426,
   "metadata": {},
   "outputs": [
    {
     "name": "stdout",
     "output_type": "stream",
     "text": [
      "Total Time Elapsed:  9.28683900833\n",
      "Average RMSE:  0.00131113844964\n"
     ]
    }
   ],
   "source": [
    "#Solve 1-D case with steepest descent with 10 sensors inside the convex hull\n",
    "SDP(1, 10, False, 100)"
   ]
  },
  {
   "cell_type": "code",
   "execution_count": 427,
   "metadata": {},
   "outputs": [
    {
     "name": "stdout",
     "output_type": "stream",
     "text": [
      "Total Time Elapsed:  13.315559864\n",
      "Average RMSE:  0.0153179595149\n"
     ]
    }
   ],
   "source": [
    "#Solve 2-D case with steepest descent with 10 sensors outside the convex hull\n",
    "SDP(2, 10, True, 100)"
   ]
  },
  {
   "cell_type": "code",
   "execution_count": 428,
   "metadata": {},
   "outputs": [
    {
     "name": "stdout",
     "output_type": "stream",
     "text": [
      "Total Time Elapsed:  33.8117461205\n",
      "Average RMSE:  0.00616733637123\n"
     ]
    }
   ],
   "source": [
    "#Solve 2-D case with steepest descent with 10 sensors inside the convex hull\n",
    "SDP(2, 10, False, 100)"
   ]
  },
  {
   "cell_type": "code",
   "execution_count": 429,
   "metadata": {},
   "outputs": [
    {
     "name": "stdout",
     "output_type": "stream",
     "text": [
      "Total Time Elapsed:  21.8626668453\n",
      "Average RMSE:  0.842044570965\n"
     ]
    }
   ],
   "source": [
    "#Solve 3-D case with steepest descent with 10 sensors outside the convex hull\n",
    "SDP(3, 10, True, 100)"
   ]
  },
  {
   "cell_type": "code",
   "execution_count": 430,
   "metadata": {},
   "outputs": [
    {
     "name": "stdout",
     "output_type": "stream",
     "text": [
      "Total Time Elapsed:  31.5579149723\n",
      "Average RMSE:  0.372208217592\n"
     ]
    }
   ],
   "source": [
    "#Solve 3-D case with steepest descent with 10 sensors inside the convex hull\n",
    "SDP(3, 10, False, 100)"
   ]
  },
  {
   "cell_type": "code",
   "execution_count": null,
   "metadata": {
    "collapsed": true
   },
   "outputs": [],
   "source": []
  }
 ],
 "metadata": {
  "kernelspec": {
   "display_name": "Python 2",
   "language": "python",
   "name": "python2"
  },
  "language_info": {
   "codemirror_mode": {
    "name": "ipython",
    "version": 2
   },
   "file_extension": ".py",
   "mimetype": "text/x-python",
   "name": "python",
   "nbconvert_exporter": "python",
   "pygments_lexer": "ipython2",
   "version": "2.7.14"
  }
 },
 "nbformat": 4,
 "nbformat_minor": 2
}
